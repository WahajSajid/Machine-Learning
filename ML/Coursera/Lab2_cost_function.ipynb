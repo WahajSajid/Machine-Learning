{
 "cells": [
  {
   "cell_type": "markdown",
   "id": "e736f7cd",
   "metadata": {},
   "source": [
    "𝐽(𝑤,𝑏)=12𝑚∑𝑖=0𝑚−1(𝑓𝑤,𝑏(𝑥(𝑖))−𝑦(𝑖))2(1)\n",
    "\n",
    "where\n",
    "𝑓𝑤,𝑏(𝑥(𝑖))=𝑤𝑥(𝑖)+𝑏(2)\n",
    "\n",
    "𝑓𝑤,𝑏(𝑥(𝑖))\n",
    " is our prediction for example 𝑖\n",
    " using parameters 𝑤,𝑏\n",
    ".\n",
    "(𝑓𝑤,𝑏(𝑥(𝑖))−𝑦(𝑖))2\n",
    " is the squared difference between the target value and the prediction.\n",
    "These differences are summed over all the 𝑚\n",
    " examples and divided by 2m to produce the cost, 𝐽(𝑤,𝑏)\n",
    "."
   ]
  },
  {
   "cell_type": "code",
   "execution_count": 1,
   "id": "e59fe222",
   "metadata": {},
   "outputs": [],
   "source": [
    "#function to compute the squared cost for linear regression\n",
    "def compute_cost(x,y,w,b):\n",
    "    m = x.shape[0]\n",
    "    cost_sum = 0\n",
    "    for i in range(m):\n",
    "        prediction = w *x[i] +b\n",
    "        cost  = (prediction - y[i])**2\n",
    "        cost_sum += cost\n",
    "    total_cost = (1/(2*m)) * cost_sum\n",
    "    return total_cost"
   ]
  },
  {
   "cell_type": "code",
   "execution_count": null,
   "id": "ae311966",
   "metadata": {},
   "outputs": [
    {
     "name": "stdout",
     "output_type": "stream",
     "text": [
      "Cost: 4700.0\n"
     ]
    }
   ],
   "source": [
    "import numpy as np\n",
    "import matplotlib.pyplot as plt\n",
    "x_train = np.array([1.0, 1.7, 2.0, 2.5, 3.0, 3.2])\n",
    "y_train = np.array([250, 300, 480,  430,   630, 730,])\n",
    "w = 200\n",
    "b = 100\n",
    "cost = compute_cost(x_train, y_train, w,b)\n",
    "print(\"Cost:\", cost)"
   ]
  }
 ],
 "metadata": {
  "kernelspec": {
   "display_name": "base",
   "language": "python",
   "name": "python3"
  },
  "language_info": {
   "codemirror_mode": {
    "name": "ipython",
    "version": 3
   },
   "file_extension": ".py",
   "mimetype": "text/x-python",
   "name": "python",
   "nbconvert_exporter": "python",
   "pygments_lexer": "ipython3",
   "version": "3.11.11"
  }
 },
 "nbformat": 4,
 "nbformat_minor": 5
}
