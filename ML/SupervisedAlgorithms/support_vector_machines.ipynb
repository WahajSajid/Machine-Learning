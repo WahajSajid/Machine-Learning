{
 "cells": [
  {
   "cell_type": "markdown",
   "id": "ac92af76",
   "metadata": {},
   "source": [
    "#SVM (Support Vector Machines)\n",
    "It is a classification algorithm. \n"
   ]
  }
 ],
 "metadata": {
  "language_info": {
   "name": "python"
  }
 },
 "nbformat": 4,
 "nbformat_minor": 5
}
