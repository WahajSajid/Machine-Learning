{
 "cells": [
  {
   "cell_type": "code",
   "execution_count": 19,
   "id": "523d9adc",
   "metadata": {},
   "outputs": [],
   "source": [
    "import numpy as np\n",
    "from tensorflow.keras.layers import Dense, Conv2D, Flatten, MaxPool2D\n",
    "from tensorflow.keras.models import Sequential\n",
    "from tensorflow.keras.losses import BinaryCrossentropy\n",
    "import cv2\n",
    "import os\n",
    "from sklearn.preprocessing import LabelEncoder\n",
    "from tensorflow.keras.metrics import Accuracy\n",
    "from tensorflow.keras.callbacks import EarlyStopping"
   ]
  },
  {
   "cell_type": "code",
   "execution_count": 20,
   "id": "69f5cd11",
   "metadata": {},
   "outputs": [],
   "source": [
    "#training data\n",
    "data = []\n",
    "labels = []\n",
    "\n",
    "for label in ['PNEUMONIA', 'NORMAL']:\n",
    "    path = rf'C:\\Users\\Wahaj Sajid\\Desktop\\Datasets\\xray_dataset_covid19\\train\\{label}'\n",
    "    for file in os.listdir(path):\n",
    "        img = cv2.imread(os.path.join(path, file),0)\n",
    "        img = cv2.resize(img, (128, 128))\n",
    "        img = img/255.0\n",
    "        data.append(img.reshape(128,128,1))\n",
    "        labels.append(label)"
   ]
  },
  {
   "cell_type": "code",
   "execution_count": 43,
   "id": "bf1b3591",
   "metadata": {},
   "outputs": [],
   "source": [
    "#testing data\n",
    "data1 = []\n",
    "labels1 = []\n",
    "\n",
    "for label in ['PNEUMONIA', 'NORMAL']:\n",
    "    path = rf'C:\\Users\\Wahaj Sajid\\Desktop\\Datasets\\xray_dataset_covid19\\test\\{label}'\n",
    "    for file in os.listdir(path):\n",
    "        img = cv2.imread(os.path.join(path, file),0)\n",
    "        img = cv2.resize(img, (128, 128))\n",
    "        img = img/255.0\n",
    "        data1.append(img.reshape(128,128,1))\n",
    "        labels1.append(label)"
   ]
  },
  {
   "cell_type": "code",
   "execution_count": 44,
   "id": "62e15781",
   "metadata": {},
   "outputs": [],
   "source": [
    "#encode the testing labels\n",
    "test_encoder = LabelEncoder()\n",
    "labels1 = test_encoder.fit_transform(labels1)"
   ]
  },
  {
   "cell_type": "code",
   "execution_count": 45,
   "id": "d1bbfadc",
   "metadata": {},
   "outputs": [],
   "source": [
    "x_test = np.array(data1)\n",
    "y_test = np.array(labels1)"
   ]
  },
  {
   "cell_type": "code",
   "execution_count": null,
   "id": "9e4235d7",
   "metadata": {},
   "outputs": [],
   "source": [
    "#encode the training labels\n",
    "encoder = LabelEncoder()\n",
    "labels = encoder.fit_transform(labels)"
   ]
  },
  {
   "cell_type": "code",
   "execution_count": 22,
   "id": "e6926f81",
   "metadata": {},
   "outputs": [],
   "source": [
    "x = np.array(data)\n",
    "y = np.array(labels)"
   ]
  },
  {
   "cell_type": "code",
   "execution_count": 56,
   "id": "4eadcbf7",
   "metadata": {},
   "outputs": [
    {
     "name": "stderr",
     "output_type": "stream",
     "text": [
      "c:\\Users\\Wahaj Sajid\\anaconda3\\Lib\\site-packages\\keras\\src\\layers\\convolutional\\base_conv.py:107: UserWarning: Do not pass an `input_shape`/`input_dim` argument to a layer. When using Sequential models, prefer using an `Input(shape)` object as the first layer in the model instead.\n",
      "  super().__init__(activity_regularizer=activity_regularizer, **kwargs)\n"
     ]
    },
    {
     "name": "stdout",
     "output_type": "stream",
     "text": [
      "Epoch 1/20\n",
      "\u001b[1m4/4\u001b[0m \u001b[32m━━━━━━━━━━━━━━━━━━━━\u001b[0m\u001b[37m\u001b[0m \u001b[1m2s\u001b[0m 268ms/step - accuracy: 0.4828 - loss: 0.9452 - val_accuracy: 1.0000 - val_loss: 0.4806\n",
      "Epoch 2/20\n",
      "\u001b[1m4/4\u001b[0m \u001b[32m━━━━━━━━━━━━━━━━━━━━\u001b[0m\u001b[37m\u001b[0m \u001b[1m1s\u001b[0m 188ms/step - accuracy: 0.3948 - loss: 0.7598 - val_accuracy: 0.0000e+00 - val_loss: 0.8848\n",
      "Epoch 3/20\n",
      "\u001b[1m4/4\u001b[0m \u001b[32m━━━━━━━━━━━━━━━━━━━━\u001b[0m\u001b[37m\u001b[0m \u001b[1m1s\u001b[0m 174ms/step - accuracy: 0.6019 - loss: 0.6547 - val_accuracy: 0.0000e+00 - val_loss: 0.8392\n",
      "Epoch 4/20\n",
      "\u001b[1m4/4\u001b[0m \u001b[32m━━━━━━━━━━━━━━━━━━━━\u001b[0m\u001b[37m\u001b[0m \u001b[1m1s\u001b[0m 186ms/step - accuracy: 0.6581 - loss: 0.5991 - val_accuracy: 0.8667 - val_loss: 0.6333\n",
      "Epoch 5/20\n",
      "\u001b[1m4/4\u001b[0m \u001b[32m━━━━━━━━━━━━━━━━━━━━\u001b[0m\u001b[37m\u001b[0m \u001b[1m1s\u001b[0m 182ms/step - accuracy: 0.8999 - loss: 0.5351 - val_accuracy: 1.0000 - val_loss: 0.4839\n",
      "Epoch 6/20\n",
      "\u001b[1m4/4\u001b[0m \u001b[32m━━━━━━━━━━━━━━━━━━━━\u001b[0m\u001b[37m\u001b[0m \u001b[1m1s\u001b[0m 201ms/step - accuracy: 0.9083 - loss: 0.4434 - val_accuracy: 1.0000 - val_loss: 0.2871\n",
      "Epoch 7/20\n",
      "\u001b[1m4/4\u001b[0m \u001b[32m━━━━━━━━━━━━━━━━━━━━\u001b[0m\u001b[37m\u001b[0m \u001b[1m1s\u001b[0m 188ms/step - accuracy: 0.9086 - loss: 0.3376 - val_accuracy: 0.9667 - val_loss: 0.2210\n",
      "Epoch 8/20\n",
      "\u001b[1m4/4\u001b[0m \u001b[32m━━━━━━━━━━━━━━━━━━━━\u001b[0m\u001b[37m\u001b[0m \u001b[1m1s\u001b[0m 225ms/step - accuracy: 0.9127 - loss: 0.2427 - val_accuracy: 1.0000 - val_loss: 0.1101\n",
      "Epoch 9/20\n",
      "\u001b[1m4/4\u001b[0m \u001b[32m━━━━━━━━━━━━━━━━━━━━\u001b[0m\u001b[37m\u001b[0m \u001b[1m1s\u001b[0m 224ms/step - accuracy: 0.9197 - loss: 0.2055 - val_accuracy: 1.0000 - val_loss: 0.0054\n",
      "Epoch 10/20\n",
      "\u001b[1m4/4\u001b[0m \u001b[32m━━━━━━━━━━━━━━━━━━━━\u001b[0m\u001b[37m\u001b[0m \u001b[1m1s\u001b[0m 225ms/step - accuracy: 0.8692 - loss: 0.2642 - val_accuracy: 1.0000 - val_loss: 0.0652\n",
      "Epoch 11/20\n",
      "\u001b[1m4/4\u001b[0m \u001b[32m━━━━━━━━━━━━━━━━━━━━\u001b[0m\u001b[37m\u001b[0m \u001b[1m1s\u001b[0m 216ms/step - accuracy: 0.9234 - loss: 0.1498 - val_accuracy: 1.0000 - val_loss: 0.0077\n",
      "Epoch 12/20\n",
      "\u001b[1m4/4\u001b[0m \u001b[32m━━━━━━━━━━━━━━━━━━━━\u001b[0m\u001b[37m\u001b[0m \u001b[1m1s\u001b[0m 229ms/step - accuracy: 0.9372 - loss: 0.1320 - val_accuracy: 1.0000 - val_loss: 0.0701\n",
      "Epoch 13/20\n",
      "\u001b[1m4/4\u001b[0m \u001b[32m━━━━━━━━━━━━━━━━━━━━\u001b[0m\u001b[37m\u001b[0m \u001b[1m1s\u001b[0m 215ms/step - accuracy: 0.9698 - loss: 0.1020 - val_accuracy: 1.0000 - val_loss: 0.0088\n",
      "Epoch 14/20\n",
      "\u001b[1m4/4\u001b[0m \u001b[32m━━━━━━━━━━━━━━━━━━━━\u001b[0m\u001b[37m\u001b[0m \u001b[1m1s\u001b[0m 216ms/step - accuracy: 0.9763 - loss: 0.0848 - val_accuracy: 1.0000 - val_loss: 0.0284\n"
     ]
    },
    {
     "data": {
      "text/plain": [
       "<keras.src.callbacks.history.History at 0x234dc201250>"
      ]
     },
     "execution_count": 56,
     "metadata": {},
     "output_type": "execute_result"
    }
   ],
   "source": [
    "#train the model\n",
    "model = Sequential([\n",
    "    Conv2D(32, (3,3), activation='relu', input_shape = (128, 128,1)),\n",
    "    MaxPool2D(2,2),\n",
    "    Conv2D(64, (3,3), activation='relu'),\n",
    "    MaxPool2D(2,2),\n",
    "    Flatten(),\n",
    "    Dense(units=30, activation='relu'),\n",
    "    Dense(units=1, activation='sigmoid')\n",
    "])\n",
    "\n",
    "model.compile(optimizer = 'adam', loss = BinaryCrossentropy(), metrics = ['accuracy'] )\n",
    "\n",
    "early_stop = EarlyStopping(monitor = 'val_loss', patience = 5, restore_best_weights = True)\n",
    "\n",
    "model.fit(x, y, epochs = 20, callbacks = [early_stop],   validation_split = 0.2)"
   ]
  },
  {
   "cell_type": "code",
   "execution_count": 52,
   "id": "0ec7d43e",
   "metadata": {},
   "outputs": [
    {
     "name": "stdout",
     "output_type": "stream",
     "text": [
      "\u001b[1m1/1\u001b[0m \u001b[32m━━━━━━━━━━━━━━━━━━━━\u001b[0m\u001b[37m\u001b[0m \u001b[1m0s\u001b[0m 29ms/step\n",
      "Pneumonia\n"
     ]
    }
   ],
   "source": [
    "#test the model\n",
    "path = rf\"C:\\Users\\Wahaj Sajid\\Desktop\\p1.jpeg\"\n",
    "img = cv2.imread(path, cv2.IMREAD_GRAYSCALE)\n",
    "img = cv2.resize(img, (128, 128))\n",
    "img = img/255.0\n",
    "img = img.reshape(128, 128, 1)\n",
    "\n",
    "img = np.expand_dims(img, axis=0)\n",
    "\n",
    "prediction = model.predict(img)\n",
    "\n",
    "if(prediction >= 0.5):\n",
    "    print('Pneumonia')\n",
    "else:\n",
    "    print('Normal')"
   ]
  },
  {
   "cell_type": "code",
   "execution_count": 39,
   "id": "7592a907",
   "metadata": {},
   "outputs": [
    {
     "name": "stdout",
     "output_type": "stream",
     "text": [
      "\u001b[1m5/5\u001b[0m \u001b[32m━━━━━━━━━━━━━━━━━━━━\u001b[0m\u001b[37m\u001b[0m \u001b[1m0s\u001b[0m 50ms/step\n",
      "\u001b[1m5/5\u001b[0m \u001b[32m━━━━━━━━━━━━━━━━━━━━\u001b[0m\u001b[37m\u001b[0m \u001b[1m0s\u001b[0m 47ms/step - accuracy: 1.0000 - loss: 0.0071\n",
      "Accuracy 1.0\n",
      "Loss 0.006296573206782341\n"
     ]
    }
   ],
   "source": [
    "#test the model on a training dataset\n",
    "train_predict = model.predict(x)\n",
    "\n",
    "train_loss, train_accuracy = model.evaluate(x, y)\n",
    "\n",
    "print(f\"Accuracy\", train_accuracy)\n",
    "print(f\"Loss\", train_loss)"
   ]
  },
  {
   "cell_type": "code",
   "execution_count": 46,
   "id": "f0ae3bfd",
   "metadata": {},
   "outputs": [
    {
     "name": "stdout",
     "output_type": "stream",
     "text": [
      "\u001b[1m2/2\u001b[0m \u001b[32m━━━━━━━━━━━━━━━━━━━━\u001b[0m\u001b[37m\u001b[0m \u001b[1m0s\u001b[0m 28ms/step\n",
      "\u001b[1m2/2\u001b[0m \u001b[32m━━━━━━━━━━━━━━━━━━━━\u001b[0m\u001b[37m\u001b[0m \u001b[1m0s\u001b[0m 33ms/step - accuracy: 1.0000 - loss: 0.0088\n",
      "Accuracy 1.0\n",
      "loss 0.008144548162817955\n"
     ]
    }
   ],
   "source": [
    "#test the model on testing dataset\n",
    "\n",
    "test_predict = model.predict(x_test)\n",
    "\n",
    "test_loss, test_accuracy = model.evaluate(x_test, y_test)\n",
    "\n",
    "print(f\"Accuracy\", test_accuracy)\n",
    "print(f\"loss\", test_loss)"
   ]
  }
 ],
 "metadata": {
  "kernelspec": {
   "display_name": "base",
   "language": "python",
   "name": "python3"
  },
  "language_info": {
   "codemirror_mode": {
    "name": "ipython",
    "version": 3
   },
   "file_extension": ".py",
   "mimetype": "text/x-python",
   "name": "python",
   "nbconvert_exporter": "python",
   "pygments_lexer": "ipython3",
   "version": "3.11.11"
  }
 },
 "nbformat": 4,
 "nbformat_minor": 5
}
