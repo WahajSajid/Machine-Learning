{
 "cells": [
  {
   "cell_type": "code",
   "execution_count": 36,
   "id": "60e2d18d",
   "metadata": {},
   "outputs": [],
   "source": [
    "import h5py\n",
    "from tensorflow.keras.models import Sequential\n",
    "from tensorflow.keras.layers import Dense, Conv2D, Flatten, MaxPooling2D\n",
    "from tensorflow.keras.losses import SparseCategoricalCrossentropy\n",
    "from tensorflow.keras.callbacks import EarlyStopping\n",
    "import cv2\n",
    "import numpy as np\n"
   ]
  },
  {
   "cell_type": "code",
   "execution_count": null,
   "id": "afc494a9",
   "metadata": {},
   "outputs": [
    {
     "name": "stdout",
     "output_type": "stream",
     "text": [
      "<KeysViewHDF5 ['list_classes', 'train_set_x', 'train_set_y']>\n",
      "(1080, 64, 64, 3)\n",
      "(1080,)\n"
     ]
    }
   ],
   "source": [
    "#load the training data set\n",
    "with h5py.File(rf'C:\\Users\\Wahaj Sajid\\Desktop\\Datasets\\Finger Signs Data sets\\Signs_Data_Training.h5', 'r') as f:\n",
    "    print(f.keys())\n",
    "    x_train = f['train_set_x'][:]\n",
    "    y_train = f['train_set_y'][:]\n",
    "\n",
    "    print(x_train.shape)\n",
    "    print(y_train.shape)"
   ]
  },
  {
   "cell_type": "code",
   "execution_count": 12,
   "id": "edda61aa",
   "metadata": {},
   "outputs": [
    {
     "name": "stdout",
     "output_type": "stream",
     "text": [
      "<KeysViewHDF5 ['list_classes', 'test_set_x', 'test_set_y']>\n",
      "(120, 64, 64, 3)\n",
      "(120,)\n"
     ]
    }
   ],
   "source": [
    "#load the testing dataset\n",
    "with h5py.File(rf'C:\\Users\\Wahaj Sajid\\Desktop\\Datasets\\Finger Signs Data sets\\Signs_Data_Testing.h5', 'r' ) as f:\n",
    "    print(f.keys())\n",
    "\n",
    "    x_test = f['test_set_x'][:]\n",
    "    y_test = f['test_set_y'][:]\n",
    "\n",
    "print(x_test.shape)\n",
    "print(y_test.shape)"
   ]
  },
  {
   "cell_type": "markdown",
   "id": "fa5e32d6",
   "metadata": {},
   "source": [
    "# Below is the implementation of model trained on Gray Scale images (128, 128, 1)"
   ]
  },
  {
   "cell_type": "code",
   "execution_count": 71,
   "id": "fa19c3f6",
   "metadata": {},
   "outputs": [],
   "source": [
    "#changing the shape of train images and resizing them\n",
    "train_gray_images = []\n",
    "for img in x_train:\n",
    "    img = cv2.cvtColor(img, cv2.COLOR_RGB2GRAY)\n",
    "    img = cv2.resize(img, (128, 128))\n",
    "    img = img/255.0\n",
    "    train_gray_images.append(img.reshape(128, 128, 1))\n",
    "\n",
    "train_gray_images = np.array(train_gray_images)"
   ]
  },
  {
   "cell_type": "code",
   "execution_count": 76,
   "id": "cb2f9b95",
   "metadata": {},
   "outputs": [],
   "source": [
    "#changing the shape of test images and resizing them\n",
    "test_gray_images = []\n",
    "for img in x_test:\n",
    "    img = cv2.cvtColor(img, cv2.COLOR_RGB2GRAY)\n",
    "    img = cv2.resize(img, (128, 128))\n",
    "    img = img/255.0\n",
    "    test_gray_images.append(img.reshape(128, 128, 1))\n",
    "test_gray_images = np.array(test_gray_images)"
   ]
  },
  {
   "cell_type": "code",
   "execution_count": 207,
   "id": "651ae914",
   "metadata": {},
   "outputs": [
    {
     "name": "stdout",
     "output_type": "stream",
     "text": [
      "Epoch 1/55\n",
      "\u001b[1m27/27\u001b[0m \u001b[32m━━━━━━━━━━━━━━━━━━━━\u001b[0m\u001b[37m\u001b[0m \u001b[1m11s\u001b[0m 289ms/step - accuracy: 0.1807 - loss: 1.8615 - val_accuracy: 0.2593 - val_loss: 1.7887\n",
      "Epoch 2/55\n",
      "\u001b[1m27/27\u001b[0m \u001b[32m━━━━━━━━━━━━━━━━━━━━\u001b[0m\u001b[37m\u001b[0m \u001b[1m7s\u001b[0m 274ms/step - accuracy: 0.2723 - loss: 1.7725 - val_accuracy: 0.3519 - val_loss: 1.6758\n",
      "Epoch 3/55\n",
      "\u001b[1m27/27\u001b[0m \u001b[32m━━━━━━━━━━━━━━━━━━━━\u001b[0m\u001b[37m\u001b[0m \u001b[1m7s\u001b[0m 274ms/step - accuracy: 0.4085 - loss: 1.5451 - val_accuracy: 0.5046 - val_loss: 1.3612\n",
      "Epoch 4/55\n",
      "\u001b[1m27/27\u001b[0m \u001b[32m━━━━━━━━━━━━━━━━━━━━\u001b[0m\u001b[37m\u001b[0m \u001b[1m8s\u001b[0m 278ms/step - accuracy: 0.6167 - loss: 1.1069 - val_accuracy: 0.5880 - val_loss: 1.1649\n",
      "Epoch 5/55\n",
      "\u001b[1m27/27\u001b[0m \u001b[32m━━━━━━━━━━━━━━━━━━━━\u001b[0m\u001b[37m\u001b[0m \u001b[1m8s\u001b[0m 280ms/step - accuracy: 0.7228 - loss: 0.8420 - val_accuracy: 0.6343 - val_loss: 1.0213\n",
      "Epoch 6/55\n",
      "\u001b[1m27/27\u001b[0m \u001b[32m━━━━━━━━━━━━━━━━━━━━\u001b[0m\u001b[37m\u001b[0m \u001b[1m8s\u001b[0m 277ms/step - accuracy: 0.7559 - loss: 0.7173 - val_accuracy: 0.6667 - val_loss: 0.9935\n",
      "Epoch 7/55\n",
      "\u001b[1m27/27\u001b[0m \u001b[32m━━━━━━━━━━━━━━━━━━━━\u001b[0m\u001b[37m\u001b[0m \u001b[1m8s\u001b[0m 278ms/step - accuracy: 0.8315 - loss: 0.5233 - val_accuracy: 0.6667 - val_loss: 0.9651\n",
      "Epoch 8/55\n",
      "\u001b[1m27/27\u001b[0m \u001b[32m━━━━━━━━━━━━━━━━━━━━\u001b[0m\u001b[37m\u001b[0m \u001b[1m8s\u001b[0m 283ms/step - accuracy: 0.8886 - loss: 0.3591 - val_accuracy: 0.7222 - val_loss: 0.8466\n",
      "Epoch 9/55\n",
      "\u001b[1m27/27\u001b[0m \u001b[32m━━━━━━━━━━━━━━━━━━━━\u001b[0m\u001b[37m\u001b[0m \u001b[1m8s\u001b[0m 290ms/step - accuracy: 0.9370 - loss: 0.2878 - val_accuracy: 0.7130 - val_loss: 0.8643\n",
      "Epoch 10/55\n",
      "\u001b[1m27/27\u001b[0m \u001b[32m━━━━━━━━━━━━━━━━━━━━\u001b[0m\u001b[37m\u001b[0m \u001b[1m8s\u001b[0m 280ms/step - accuracy: 0.9512 - loss: 0.1933 - val_accuracy: 0.7222 - val_loss: 0.9098\n",
      "Epoch 11/55\n",
      "\u001b[1m27/27\u001b[0m \u001b[32m━━━━━━━━━━━━━━━━━━━━\u001b[0m\u001b[37m\u001b[0m \u001b[1m7s\u001b[0m 276ms/step - accuracy: 0.9605 - loss: 0.1483 - val_accuracy: 0.7500 - val_loss: 0.7839\n",
      "Epoch 12/55\n",
      "\u001b[1m27/27\u001b[0m \u001b[32m━━━━━━━━━━━━━━━━━━━━\u001b[0m\u001b[37m\u001b[0m \u001b[1m8s\u001b[0m 290ms/step - accuracy: 0.9900 - loss: 0.0811 - val_accuracy: 0.7639 - val_loss: 0.8035\n",
      "Epoch 13/55\n",
      "\u001b[1m27/27\u001b[0m \u001b[32m━━━━━━━━━━━━━━━━━━━━\u001b[0m\u001b[37m\u001b[0m \u001b[1m7s\u001b[0m 273ms/step - accuracy: 1.0000 - loss: 0.0481 - val_accuracy: 0.7917 - val_loss: 0.7662\n",
      "Epoch 14/55\n",
      "\u001b[1m27/27\u001b[0m \u001b[32m━━━━━━━━━━━━━━━━━━━━\u001b[0m\u001b[37m\u001b[0m \u001b[1m8s\u001b[0m 295ms/step - accuracy: 0.9985 - loss: 0.0312 - val_accuracy: 0.7917 - val_loss: 0.8017\n",
      "Epoch 15/55\n",
      "\u001b[1m27/27\u001b[0m \u001b[32m━━━━━━━━━━━━━━━━━━━━\u001b[0m\u001b[37m\u001b[0m \u001b[1m8s\u001b[0m 284ms/step - accuracy: 1.0000 - loss: 0.0250 - val_accuracy: 0.7963 - val_loss: 0.7966\n",
      "Epoch 16/55\n",
      "\u001b[1m27/27\u001b[0m \u001b[32m━━━━━━━━━━━━━━━━━━━━\u001b[0m\u001b[37m\u001b[0m \u001b[1m7s\u001b[0m 275ms/step - accuracy: 1.0000 - loss: 0.0167 - val_accuracy: 0.7963 - val_loss: 0.8446\n",
      "Epoch 17/55\n",
      "\u001b[1m27/27\u001b[0m \u001b[32m━━━━━━━━━━━━━━━━━━━━\u001b[0m\u001b[37m\u001b[0m \u001b[1m7s\u001b[0m 274ms/step - accuracy: 1.0000 - loss: 0.0133 - val_accuracy: 0.8009 - val_loss: 0.8545\n",
      "Epoch 18/55\n",
      "\u001b[1m27/27\u001b[0m \u001b[32m━━━━━━━━━━━━━━━━━━━━\u001b[0m\u001b[37m\u001b[0m \u001b[1m8s\u001b[0m 279ms/step - accuracy: 1.0000 - loss: 0.0096 - val_accuracy: 0.7870 - val_loss: 0.8914\n",
      "Epoch 19/55\n",
      "\u001b[1m27/27\u001b[0m \u001b[32m━━━━━━━━━━━━━━━━━━━━\u001b[0m\u001b[37m\u001b[0m \u001b[1m7s\u001b[0m 273ms/step - accuracy: 1.0000 - loss: 0.0085 - val_accuracy: 0.8056 - val_loss: 0.8704\n",
      "Epoch 20/55\n",
      "\u001b[1m27/27\u001b[0m \u001b[32m━━━━━━━━━━━━━━━━━━━━\u001b[0m\u001b[37m\u001b[0m \u001b[1m7s\u001b[0m 272ms/step - accuracy: 1.0000 - loss: 0.0067 - val_accuracy: 0.8102 - val_loss: 0.9032\n",
      "Epoch 21/55\n",
      "\u001b[1m27/27\u001b[0m \u001b[32m━━━━━━━━━━━━━━━━━━━━\u001b[0m\u001b[37m\u001b[0m \u001b[1m7s\u001b[0m 272ms/step - accuracy: 1.0000 - loss: 0.0057 - val_accuracy: 0.8056 - val_loss: 0.9049\n",
      "Epoch 22/55\n",
      "\u001b[1m27/27\u001b[0m \u001b[32m━━━━━━━━━━━━━━━━━━━━\u001b[0m\u001b[37m\u001b[0m \u001b[1m9s\u001b[0m 333ms/step - accuracy: 1.0000 - loss: 0.0050 - val_accuracy: 0.8056 - val_loss: 0.9242\n",
      "Epoch 23/55\n",
      "\u001b[1m27/27\u001b[0m \u001b[32m━━━━━━━━━━━━━━━━━━━━\u001b[0m\u001b[37m\u001b[0m \u001b[1m60s\u001b[0m 2s/step - accuracy: 1.0000 - loss: 0.0041 - val_accuracy: 0.8056 - val_loss: 0.9210\n",
      "Epoch 24/55\n",
      "\u001b[1m27/27\u001b[0m \u001b[32m━━━━━━━━━━━━━━━━━━━━\u001b[0m\u001b[37m\u001b[0m \u001b[1m2109s\u001b[0m 81s/step - accuracy: 1.0000 - loss: 0.0038 - val_accuracy: 0.8009 - val_loss: 0.9536\n",
      "Epoch 25/55\n",
      "\u001b[1m27/27\u001b[0m \u001b[32m━━━━━━━━━━━━━━━━━━━━\u001b[0m\u001b[37m\u001b[0m \u001b[1m19946s\u001b[0m 767s/step - accuracy: 1.0000 - loss: 0.0041 - val_accuracy: 0.8148 - val_loss: 0.9322\n",
      "Epoch 26/55\n",
      "\u001b[1m27/27\u001b[0m \u001b[32m━━━━━━━━━━━━━━━━━━━━\u001b[0m\u001b[37m\u001b[0m \u001b[1m17s\u001b[0m 612ms/step - accuracy: 1.0000 - loss: 0.0030 - val_accuracy: 0.8009 - val_loss: 0.9621\n",
      "Epoch 27/55\n",
      "\u001b[1m27/27\u001b[0m \u001b[32m━━━━━━━━━━━━━━━━━━━━\u001b[0m\u001b[37m\u001b[0m \u001b[1m16s\u001b[0m 424ms/step - accuracy: 1.0000 - loss: 0.0028 - val_accuracy: 0.8056 - val_loss: 0.9643\n",
      "Epoch 28/55\n",
      "\u001b[1m27/27\u001b[0m \u001b[32m━━━━━━━━━━━━━━━━━━━━\u001b[0m\u001b[37m\u001b[0m \u001b[1m13s\u001b[0m 486ms/step - accuracy: 1.0000 - loss: 0.0025 - val_accuracy: 0.8102 - val_loss: 0.9876\n",
      "Epoch 29/55\n",
      "\u001b[1m27/27\u001b[0m \u001b[32m━━━━━━━━━━━━━━━━━━━━\u001b[0m\u001b[37m\u001b[0m \u001b[1m14s\u001b[0m 520ms/step - accuracy: 1.0000 - loss: 0.0024 - val_accuracy: 0.8056 - val_loss: 0.9845\n",
      "Epoch 30/55\n",
      "\u001b[1m27/27\u001b[0m \u001b[32m━━━━━━━━━━━━━━━━━━━━\u001b[0m\u001b[37m\u001b[0m \u001b[1m13s\u001b[0m 474ms/step - accuracy: 1.0000 - loss: 0.0022 - val_accuracy: 0.8009 - val_loss: 1.0133\n",
      "Epoch 31/55\n",
      "\u001b[1m27/27\u001b[0m \u001b[32m━━━━━━━━━━━━━━━━━━━━\u001b[0m\u001b[37m\u001b[0m \u001b[1m10s\u001b[0m 378ms/step - accuracy: 1.0000 - loss: 0.0019 - val_accuracy: 0.8102 - val_loss: 0.9976\n",
      "Epoch 32/55\n",
      "\u001b[1m27/27\u001b[0m \u001b[32m━━━━━━━━━━━━━━━━━━━━\u001b[0m\u001b[37m\u001b[0m \u001b[1m10s\u001b[0m 376ms/step - accuracy: 1.0000 - loss: 0.0016 - val_accuracy: 0.8102 - val_loss: 0.9951\n",
      "Epoch 33/55\n",
      "\u001b[1m27/27\u001b[0m \u001b[32m━━━━━━━━━━━━━━━━━━━━\u001b[0m\u001b[37m\u001b[0m \u001b[1m10s\u001b[0m 384ms/step - accuracy: 1.0000 - loss: 0.0016 - val_accuracy: 0.8148 - val_loss: 1.0054\n",
      "Epoch 34/55\n",
      "\u001b[1m27/27\u001b[0m \u001b[32m━━━━━━━━━━━━━━━━━━━━\u001b[0m\u001b[37m\u001b[0m \u001b[1m10s\u001b[0m 381ms/step - accuracy: 1.0000 - loss: 0.0015 - val_accuracy: 0.8148 - val_loss: 1.0243\n",
      "Epoch 35/55\n",
      "\u001b[1m27/27\u001b[0m \u001b[32m━━━━━━━━━━━━━━━━━━━━\u001b[0m\u001b[37m\u001b[0m \u001b[1m11s\u001b[0m 405ms/step - accuracy: 1.0000 - loss: 0.0015 - val_accuracy: 0.8102 - val_loss: 1.0333\n",
      "Epoch 36/55\n",
      "\u001b[1m27/27\u001b[0m \u001b[32m━━━━━━━━━━━━━━━━━━━━\u001b[0m\u001b[37m\u001b[0m \u001b[1m11s\u001b[0m 420ms/step - accuracy: 1.0000 - loss: 0.0013 - val_accuracy: 0.8102 - val_loss: 1.0259\n",
      "Epoch 37/55\n",
      "\u001b[1m27/27\u001b[0m \u001b[32m━━━━━━━━━━━━━━━━━━━━\u001b[0m\u001b[37m\u001b[0m \u001b[1m11s\u001b[0m 401ms/step - accuracy: 1.0000 - loss: 0.0011 - val_accuracy: 0.8102 - val_loss: 1.0260\n",
      "Epoch 38/55\n",
      "\u001b[1m27/27\u001b[0m \u001b[32m━━━━━━━━━━━━━━━━━━━━\u001b[0m\u001b[37m\u001b[0m \u001b[1m10s\u001b[0m 379ms/step - accuracy: 1.0000 - loss: 0.0012 - val_accuracy: 0.8102 - val_loss: 1.0392\n",
      "Epoch 39/55\n",
      "\u001b[1m27/27\u001b[0m \u001b[32m━━━━━━━━━━━━━━━━━━━━\u001b[0m\u001b[37m\u001b[0m \u001b[1m20s\u001b[0m 371ms/step - accuracy: 1.0000 - loss: 0.0011 - val_accuracy: 0.8102 - val_loss: 1.0457\n",
      "Epoch 40/55\n",
      "\u001b[1m27/27\u001b[0m \u001b[32m━━━━━━━━━━━━━━━━━━━━\u001b[0m\u001b[37m\u001b[0m \u001b[1m11s\u001b[0m 396ms/step - accuracy: 1.0000 - loss: 9.2293e-04 - val_accuracy: 0.8102 - val_loss: 1.0444\n",
      "Epoch 41/55\n",
      "\u001b[1m27/27\u001b[0m \u001b[32m━━━━━━━━━━━━━━━━━━━━\u001b[0m\u001b[37m\u001b[0m \u001b[1m21s\u001b[0m 423ms/step - accuracy: 1.0000 - loss: 9.2668e-04 - val_accuracy: 0.8102 - val_loss: 1.0545\n",
      "Epoch 42/55\n",
      "\u001b[1m27/27\u001b[0m \u001b[32m━━━━━━━━━━━━━━━━━━━━\u001b[0m\u001b[37m\u001b[0m \u001b[1m12s\u001b[0m 449ms/step - accuracy: 1.0000 - loss: 9.3191e-04 - val_accuracy: 0.8102 - val_loss: 1.0584\n",
      "Epoch 43/55\n",
      "\u001b[1m27/27\u001b[0m \u001b[32m━━━━━━━━━━━━━━━━━━━━\u001b[0m\u001b[37m\u001b[0m \u001b[1m10s\u001b[0m 377ms/step - accuracy: 1.0000 - loss: 8.5723e-04 - val_accuracy: 0.8102 - val_loss: 1.0666\n",
      "Epoch 44/55\n",
      "\u001b[1m27/27\u001b[0m \u001b[32m━━━━━━━━━━━━━━━━━━━━\u001b[0m\u001b[37m\u001b[0m \u001b[1m10s\u001b[0m 372ms/step - accuracy: 1.0000 - loss: 7.6593e-04 - val_accuracy: 0.8102 - val_loss: 1.0756\n",
      "Epoch 45/55\n",
      "\u001b[1m27/27\u001b[0m \u001b[32m━━━━━━━━━━━━━━━━━━━━\u001b[0m\u001b[37m\u001b[0m \u001b[1m10s\u001b[0m 381ms/step - accuracy: 1.0000 - loss: 7.5727e-04 - val_accuracy: 0.8102 - val_loss: 1.0779\n",
      "Epoch 46/55\n",
      "\u001b[1m27/27\u001b[0m \u001b[32m━━━━━━━━━━━━━━━━━━━━\u001b[0m\u001b[37m\u001b[0m \u001b[1m20s\u001b[0m 372ms/step - accuracy: 1.0000 - loss: 6.9570e-04 - val_accuracy: 0.8102 - val_loss: 1.0868\n",
      "Epoch 47/55\n",
      "\u001b[1m27/27\u001b[0m \u001b[32m━━━━━━━━━━━━━━━━━━━━\u001b[0m\u001b[37m\u001b[0m \u001b[1m10s\u001b[0m 376ms/step - accuracy: 1.0000 - loss: 6.6155e-04 - val_accuracy: 0.8102 - val_loss: 1.0804\n",
      "Epoch 48/55\n",
      "\u001b[1m27/27\u001b[0m \u001b[32m━━━━━━━━━━━━━━━━━━━━\u001b[0m\u001b[37m\u001b[0m \u001b[1m11s\u001b[0m 410ms/step - accuracy: 1.0000 - loss: 6.3937e-04 - val_accuracy: 0.8102 - val_loss: 1.0965\n",
      "Epoch 49/55\n",
      "\u001b[1m27/27\u001b[0m \u001b[32m━━━━━━━━━━━━━━━━━━━━\u001b[0m\u001b[37m\u001b[0m \u001b[1m11s\u001b[0m 392ms/step - accuracy: 1.0000 - loss: 6.1434e-04 - val_accuracy: 0.8102 - val_loss: 1.0991\n",
      "Epoch 50/55\n",
      "\u001b[1m27/27\u001b[0m \u001b[32m━━━━━━━━━━━━━━━━━━━━\u001b[0m\u001b[37m\u001b[0m \u001b[1m11s\u001b[0m 412ms/step - accuracy: 1.0000 - loss: 6.1188e-04 - val_accuracy: 0.8102 - val_loss: 1.0927\n",
      "Epoch 51/55\n",
      "\u001b[1m27/27\u001b[0m \u001b[32m━━━━━━━━━━━━━━━━━━━━\u001b[0m\u001b[37m\u001b[0m \u001b[1m12s\u001b[0m 435ms/step - accuracy: 1.0000 - loss: 5.4928e-04 - val_accuracy: 0.8102 - val_loss: 1.1048\n",
      "Epoch 52/55\n",
      "\u001b[1m27/27\u001b[0m \u001b[32m━━━━━━━━━━━━━━━━━━━━\u001b[0m\u001b[37m\u001b[0m \u001b[1m10s\u001b[0m 376ms/step - accuracy: 1.0000 - loss: 5.1946e-04 - val_accuracy: 0.8102 - val_loss: 1.1042\n",
      "Epoch 53/55\n",
      "\u001b[1m27/27\u001b[0m \u001b[32m━━━━━━━━━━━━━━━━━━━━\u001b[0m\u001b[37m\u001b[0m \u001b[1m11s\u001b[0m 385ms/step - accuracy: 1.0000 - loss: 5.3380e-04 - val_accuracy: 0.8102 - val_loss: 1.1104\n",
      "Epoch 54/55\n",
      "\u001b[1m27/27\u001b[0m \u001b[32m━━━━━━━━━━━━━━━━━━━━\u001b[0m\u001b[37m\u001b[0m \u001b[1m12s\u001b[0m 436ms/step - accuracy: 1.0000 - loss: 4.7809e-04 - val_accuracy: 0.8102 - val_loss: 1.1139\n",
      "Epoch 55/55\n",
      "\u001b[1m27/27\u001b[0m \u001b[32m━━━━━━━━━━━━━━━━━━━━\u001b[0m\u001b[37m\u001b[0m \u001b[1m12s\u001b[0m 441ms/step - accuracy: 1.0000 - loss: 4.5277e-04 - val_accuracy: 0.8102 - val_loss: 1.1227\n"
     ]
    },
    {
     "data": {
      "text/plain": [
       "<keras.src.callbacks.history.History at 0x1c939fe7690>"
      ]
     },
     "execution_count": 207,
     "metadata": {},
     "output_type": "execute_result"
    }
   ],
   "source": [
    "#train the images on the gray scale images\n",
    "model_1 = Sequential([\n",
    "    Conv2D(32, (3,3), activation='relu', input_shape = (128, 128, 1)),\n",
    "    MaxPooling2D(2,2),\n",
    "    Conv2D(64, (3,3), activation='relu'),\n",
    "    MaxPooling2D(2,2),\n",
    "    Flatten(),\n",
    "\n",
    "    Dense(units=25, activation='relu'),\n",
    "    Dense(units=6, activation='softmax')\n",
    "])\n",
    "\n",
    "model_1.compile(optimizer = 'adam', loss = SparseCategoricalCrossentropy(), metrics = ['accuracy'])\n",
    "# early_stop = EarlyStopping(monitor='val_loss', patience=3, restore_best_weights=True)\n",
    "model_1.fit(train_gray_images, y_train, epochs=55, validation_split=0.2, batch_size=32)"
   ]
  },
  {
   "cell_type": "code",
   "execution_count": 179,
   "id": "66df1760",
   "metadata": {},
   "outputs": [
    {
     "name": "stdout",
     "output_type": "stream",
     "text": [
      "\u001b[1m34/34\u001b[0m \u001b[32m━━━━━━━━━━━━━━━━━━━━\u001b[0m\u001b[37m\u001b[0m \u001b[1m2s\u001b[0m 58ms/step - accuracy: 0.9607 - loss: 0.1810\n",
      "Loss 0.28585392236709595\n",
      "Accuracy 0.9203703999519348\n"
     ]
    }
   ],
   "source": [
    "#evaluate the gray_scale_images_trained_model on a training data \n",
    "loss, accuracy = model_1.evaluate(train_gray_images, y_train)\n",
    "print(f\"Loss\", loss)\n",
    "print(f\"Accuracy\", accuracy)"
   ]
  },
  {
   "cell_type": "code",
   "execution_count": 180,
   "id": "b55c5665",
   "metadata": {},
   "outputs": [
    {
     "name": "stdout",
     "output_type": "stream",
     "text": [
      "\u001b[1m4/4\u001b[0m \u001b[32m━━━━━━━━━━━━━━━━━━━━\u001b[0m\u001b[37m\u001b[0m \u001b[1m0s\u001b[0m 81ms/step - accuracy: 0.8290 - loss: 0.5474\n",
      "Loss 0.5660637617111206\n",
      "Accuracy 0.824999988079071\n"
     ]
    }
   ],
   "source": [
    "#evaluate the rgb_images_trained_model on a testing data\n",
    "loss, accuracy = model_1.evaluate(test_gray_images, y_test)\n",
    "print(f\"Loss\", loss)\n",
    "print(f\"Accuracy\", accuracy)"
   ]
  },
  {
   "cell_type": "code",
   "execution_count": 204,
   "id": "b556f490",
   "metadata": {},
   "outputs": [
    {
     "name": "stdout",
     "output_type": "stream",
     "text": [
      "\u001b[1m1/1\u001b[0m \u001b[32m━━━━━━━━━━━━━━━━━━━━\u001b[0m\u001b[37m\u001b[0m \u001b[1m0s\u001b[0m 176ms/step\n",
      "4\n",
      "[[2.6767418e-07 5.2181264e-08 2.7868373e-07 1.5276831e-02 9.8209298e-01\n",
      "  2.6296673e-03]]\n"
     ]
    }
   ],
   "source": [
    "#test the gray_scale_images_trained_model\n",
    "path = rf\"C:\\Users\\Wahaj Sajid\\Desktop\\5.jpeg\"\n",
    "img = cv2.imread(path,cv2.IMREAD_GRAYSCALE)\n",
    "img = cv2.resize(img,(128,128))\n",
    "img = img/255.0\n",
    "img = img.reshape(128, 128, 1)\n",
    "\n",
    "img = np.expand_dims(img, axis=0)\n",
    "\n",
    "prediction = model_1.predict(img)\n",
    "\n",
    "predict = np.argmax(prediction)\n",
    "print(predict)\n",
    "print(prediction)"
   ]
  },
  {
   "cell_type": "markdown",
   "id": "03b1fdcf",
   "metadata": {},
   "source": [
    "# Below is the implementation of model trained on RGB images (64, 64, 3)"
   ]
  },
  {
   "cell_type": "code",
   "execution_count": 189,
   "id": "07ba4c35",
   "metadata": {},
   "outputs": [
    {
     "name": "stdout",
     "output_type": "stream",
     "text": [
      "Epoch 1/50\n",
      "\u001b[1m25/25\u001b[0m \u001b[32m━━━━━━━━━━━━━━━━━━━━\u001b[0m\u001b[37m\u001b[0m \u001b[1m4s\u001b[0m 62ms/step - accuracy: 0.1753 - loss: 79.9527 - val_accuracy: 0.2037 - val_loss: 1.8062\n",
      "Epoch 2/50\n",
      "\u001b[1m25/25\u001b[0m \u001b[32m━━━━━━━━━━━━━━━━━━━━\u001b[0m\u001b[37m\u001b[0m \u001b[1m1s\u001b[0m 54ms/step - accuracy: 0.3450 - loss: 1.5833 - val_accuracy: 0.4861 - val_loss: 1.3101\n",
      "Epoch 3/50\n",
      "\u001b[1m25/25\u001b[0m \u001b[32m━━━━━━━━━━━━━━━━━━━━\u001b[0m\u001b[37m\u001b[0m \u001b[1m1s\u001b[0m 52ms/step - accuracy: 0.6466 - loss: 1.0314 - val_accuracy: 0.5370 - val_loss: 1.1119\n",
      "Epoch 4/50\n",
      "\u001b[1m25/25\u001b[0m \u001b[32m━━━━━━━━━━━━━━━━━━━━\u001b[0m\u001b[37m\u001b[0m \u001b[1m1s\u001b[0m 55ms/step - accuracy: 0.7872 - loss: 0.6270 - val_accuracy: 0.6944 - val_loss: 0.9979\n",
      "Epoch 5/50\n",
      "\u001b[1m25/25\u001b[0m \u001b[32m━━━━━━━━━━━━━━━━━━━━\u001b[0m\u001b[37m\u001b[0m \u001b[1m1s\u001b[0m 55ms/step - accuracy: 0.8931 - loss: 0.3221 - val_accuracy: 0.6250 - val_loss: 1.0605\n",
      "Epoch 6/50\n",
      "\u001b[1m25/25\u001b[0m \u001b[32m━━━━━━━━━━━━━━━━━━━━\u001b[0m\u001b[37m\u001b[0m \u001b[1m1s\u001b[0m 51ms/step - accuracy: 0.9392 - loss: 0.1748 - val_accuracy: 0.7500 - val_loss: 0.9278\n",
      "Epoch 7/50\n",
      "\u001b[1m25/25\u001b[0m \u001b[32m━━━━━━━━━━━━━━━━━━━━\u001b[0m\u001b[37m\u001b[0m \u001b[1m1s\u001b[0m 54ms/step - accuracy: 0.9833 - loss: 0.0747 - val_accuracy: 0.7639 - val_loss: 1.0099\n",
      "Epoch 8/50\n",
      "\u001b[1m25/25\u001b[0m \u001b[32m━━━━━━━━━━━━━━━━━━━━\u001b[0m\u001b[37m\u001b[0m \u001b[1m1s\u001b[0m 53ms/step - accuracy: 0.9927 - loss: 0.0428 - val_accuracy: 0.7407 - val_loss: 1.1065\n",
      "Epoch 9/50\n",
      "\u001b[1m25/25\u001b[0m \u001b[32m━━━━━━━━━━━━━━━━━━━━\u001b[0m\u001b[37m\u001b[0m \u001b[1m1s\u001b[0m 51ms/step - accuracy: 0.9962 - loss: 0.0193 - val_accuracy: 0.7685 - val_loss: 1.0632\n",
      "Epoch 10/50\n",
      "\u001b[1m25/25\u001b[0m \u001b[32m━━━━━━━━━━━━━━━━━━━━\u001b[0m\u001b[37m\u001b[0m \u001b[1m1s\u001b[0m 51ms/step - accuracy: 0.9987 - loss: 0.0093 - val_accuracy: 0.7778 - val_loss: 1.1359\n",
      "Epoch 11/50\n",
      "\u001b[1m25/25\u001b[0m \u001b[32m━━━━━━━━━━━━━━━━━━━━\u001b[0m\u001b[37m\u001b[0m \u001b[1m1s\u001b[0m 51ms/step - accuracy: 0.9994 - loss: 0.0101 - val_accuracy: 0.7824 - val_loss: 1.1084\n",
      "Epoch 12/50\n",
      "\u001b[1m25/25\u001b[0m \u001b[32m━━━━━━━━━━━━━━━━━━━━\u001b[0m\u001b[37m\u001b[0m \u001b[1m1s\u001b[0m 55ms/step - accuracy: 0.9993 - loss: 0.0037 - val_accuracy: 0.7824 - val_loss: 1.1918\n",
      "Epoch 13/50\n",
      "\u001b[1m25/25\u001b[0m \u001b[32m━━━━━━━━━━━━━━━━━━━━\u001b[0m\u001b[37m\u001b[0m \u001b[1m1s\u001b[0m 52ms/step - accuracy: 0.9974 - loss: 0.0065 - val_accuracy: 0.7731 - val_loss: 1.1897\n",
      "Epoch 14/50\n",
      "\u001b[1m25/25\u001b[0m \u001b[32m━━━━━━━━━━━━━━━━━━━━\u001b[0m\u001b[37m\u001b[0m \u001b[1m1s\u001b[0m 54ms/step - accuracy: 0.9984 - loss: 0.0053 - val_accuracy: 0.7824 - val_loss: 1.2536\n",
      "Epoch 15/50\n",
      "\u001b[1m25/25\u001b[0m \u001b[32m━━━━━━━━━━━━━━━━━━━━\u001b[0m\u001b[37m\u001b[0m \u001b[1m1s\u001b[0m 52ms/step - accuracy: 0.9989 - loss: 0.0028 - val_accuracy: 0.7731 - val_loss: 1.1039\n",
      "Epoch 16/50\n",
      "\u001b[1m25/25\u001b[0m \u001b[32m━━━━━━━━━━━━━━━━━━━━\u001b[0m\u001b[37m\u001b[0m \u001b[1m1s\u001b[0m 54ms/step - accuracy: 0.9992 - loss: 0.0036 - val_accuracy: 0.7685 - val_loss: 1.1647\n",
      "Epoch 17/50\n",
      "\u001b[1m25/25\u001b[0m \u001b[32m━━━━━━━━━━━━━━━━━━━━\u001b[0m\u001b[37m\u001b[0m \u001b[1m1s\u001b[0m 52ms/step - accuracy: 0.9958 - loss: 0.0123 - val_accuracy: 0.8009 - val_loss: 1.1052\n",
      "Epoch 18/50\n",
      "\u001b[1m25/25\u001b[0m \u001b[32m━━━━━━━━━━━━━━━━━━━━\u001b[0m\u001b[37m\u001b[0m \u001b[1m1s\u001b[0m 53ms/step - accuracy: 0.9943 - loss: 0.0088 - val_accuracy: 0.7870 - val_loss: 1.1249\n",
      "Epoch 19/50\n",
      "\u001b[1m25/25\u001b[0m \u001b[32m━━━━━━━━━━━━━━━━━━━━\u001b[0m\u001b[37m\u001b[0m \u001b[1m1s\u001b[0m 55ms/step - accuracy: 0.9999 - loss: 0.0020 - val_accuracy: 0.7824 - val_loss: 1.2817\n",
      "Epoch 20/50\n",
      "\u001b[1m25/25\u001b[0m \u001b[32m━━━━━━━━━━━━━━━━━━━━\u001b[0m\u001b[37m\u001b[0m \u001b[1m1s\u001b[0m 54ms/step - accuracy: 0.9991 - loss: 0.0062 - val_accuracy: 0.7778 - val_loss: 1.4480\n",
      "Epoch 21/50\n",
      "\u001b[1m25/25\u001b[0m \u001b[32m━━━━━━━━━━━━━━━━━━━━\u001b[0m\u001b[37m\u001b[0m \u001b[1m1s\u001b[0m 54ms/step - accuracy: 0.9987 - loss: 0.0036 - val_accuracy: 0.7824 - val_loss: 1.1724\n",
      "Epoch 22/50\n",
      "\u001b[1m25/25\u001b[0m \u001b[32m━━━━━━━━━━━━━━━━━━━━\u001b[0m\u001b[37m\u001b[0m \u001b[1m1s\u001b[0m 51ms/step - accuracy: 0.9921 - loss: 0.0207 - val_accuracy: 0.7407 - val_loss: 1.3690\n",
      "Epoch 23/50\n",
      "\u001b[1m25/25\u001b[0m \u001b[32m━━━━━━━━━━━━━━━━━━━━\u001b[0m\u001b[37m\u001b[0m \u001b[1m1s\u001b[0m 56ms/step - accuracy: 0.9588 - loss: 0.1357 - val_accuracy: 0.6157 - val_loss: 1.4338\n",
      "Epoch 24/50\n",
      "\u001b[1m25/25\u001b[0m \u001b[32m━━━━━━━━━━━━━━━━━━━━\u001b[0m\u001b[37m\u001b[0m \u001b[1m1s\u001b[0m 57ms/step - accuracy: 0.9047 - loss: 0.2795 - val_accuracy: 0.5556 - val_loss: 1.2213\n",
      "Epoch 25/50\n",
      "\u001b[1m25/25\u001b[0m \u001b[32m━━━━━━━━━━━━━━━━━━━━\u001b[0m\u001b[37m\u001b[0m \u001b[1m1s\u001b[0m 58ms/step - accuracy: 0.8989 - loss: 0.3287 - val_accuracy: 0.6991 - val_loss: 1.1764\n",
      "Epoch 26/50\n",
      "\u001b[1m25/25\u001b[0m \u001b[32m━━━━━━━━━━━━━━━━━━━━\u001b[0m\u001b[37m\u001b[0m \u001b[1m1s\u001b[0m 58ms/step - accuracy: 0.9448 - loss: 0.1385 - val_accuracy: 0.7130 - val_loss: 1.0815\n",
      "Epoch 27/50\n",
      "\u001b[1m25/25\u001b[0m \u001b[32m━━━━━━━━━━━━━━━━━━━━\u001b[0m\u001b[37m\u001b[0m \u001b[1m2s\u001b[0m 66ms/step - accuracy: 0.9833 - loss: 0.0386 - val_accuracy: 0.7222 - val_loss: 1.4475\n",
      "Epoch 28/50\n",
      "\u001b[1m25/25\u001b[0m \u001b[32m━━━━━━━━━━━━━━━━━━━━\u001b[0m\u001b[37m\u001b[0m \u001b[1m2s\u001b[0m 66ms/step - accuracy: 0.9905 - loss: 0.0215 - val_accuracy: 0.7454 - val_loss: 1.0821\n",
      "Epoch 29/50\n",
      "\u001b[1m25/25\u001b[0m \u001b[32m━━━━━━━━━━━━━━━━━━━━\u001b[0m\u001b[37m\u001b[0m \u001b[1m2s\u001b[0m 61ms/step - accuracy: 0.9995 - loss: 0.0073 - val_accuracy: 0.7824 - val_loss: 1.1642\n",
      "Epoch 30/50\n",
      "\u001b[1m25/25\u001b[0m \u001b[32m━━━━━━━━━━━━━━━━━━━━\u001b[0m\u001b[37m\u001b[0m \u001b[1m2s\u001b[0m 63ms/step - accuracy: 0.9997 - loss: 0.0033 - val_accuracy: 0.7731 - val_loss: 1.2122\n",
      "Epoch 31/50\n",
      "\u001b[1m25/25\u001b[0m \u001b[32m━━━━━━━━━━━━━━━━━━━━\u001b[0m\u001b[37m\u001b[0m \u001b[1m2s\u001b[0m 73ms/step - accuracy: 0.9989 - loss: 0.0038 - val_accuracy: 0.7824 - val_loss: 1.2789\n",
      "Epoch 32/50\n",
      "\u001b[1m25/25\u001b[0m \u001b[32m━━━━━━━━━━━━━━━━━━━━\u001b[0m\u001b[37m\u001b[0m \u001b[1m2s\u001b[0m 71ms/step - accuracy: 0.9958 - loss: 0.0082 - val_accuracy: 0.7685 - val_loss: 1.2914\n",
      "Epoch 33/50\n",
      "\u001b[1m25/25\u001b[0m \u001b[32m━━━━━━━━━━━━━━━━━━━━\u001b[0m\u001b[37m\u001b[0m \u001b[1m2s\u001b[0m 71ms/step - accuracy: 0.9992 - loss: 0.0020 - val_accuracy: 0.7731 - val_loss: 1.3064\n",
      "Epoch 34/50\n",
      "\u001b[1m25/25\u001b[0m \u001b[32m━━━━━━━━━━━━━━━━━━━━\u001b[0m\u001b[37m\u001b[0m \u001b[1m2s\u001b[0m 67ms/step - accuracy: 0.9993 - loss: 0.0021 - val_accuracy: 0.7778 - val_loss: 1.3427\n",
      "Epoch 35/50\n",
      "\u001b[1m25/25\u001b[0m \u001b[32m━━━━━━━━━━━━━━━━━━━━\u001b[0m\u001b[37m\u001b[0m \u001b[1m2s\u001b[0m 63ms/step - accuracy: 0.9999 - loss: 9.7776e-04 - val_accuracy: 0.7824 - val_loss: 1.3360\n",
      "Epoch 36/50\n",
      "\u001b[1m25/25\u001b[0m \u001b[32m━━━━━━━━━━━━━━━━━━━━\u001b[0m\u001b[37m\u001b[0m \u001b[1m2s\u001b[0m 62ms/step - accuracy: 0.9981 - loss: 0.0041 - val_accuracy: 0.7824 - val_loss: 1.3252\n",
      "Epoch 37/50\n",
      "\u001b[1m25/25\u001b[0m \u001b[32m━━━━━━━━━━━━━━━━━━━━\u001b[0m\u001b[37m\u001b[0m \u001b[1m2s\u001b[0m 63ms/step - accuracy: 0.9998 - loss: 6.6591e-04 - val_accuracy: 0.7824 - val_loss: 1.3462\n",
      "Epoch 38/50\n",
      "\u001b[1m25/25\u001b[0m \u001b[32m━━━━━━━━━━━━━━━━━━━━\u001b[0m\u001b[37m\u001b[0m \u001b[1m2s\u001b[0m 67ms/step - accuracy: 0.9994 - loss: 0.0014 - val_accuracy: 0.7917 - val_loss: 1.4984\n",
      "Epoch 39/50\n",
      "\u001b[1m25/25\u001b[0m \u001b[32m━━━━━━━━━━━━━━━━━━━━\u001b[0m\u001b[37m\u001b[0m \u001b[1m2s\u001b[0m 62ms/step - accuracy: 0.9985 - loss: 0.0054 - val_accuracy: 0.7731 - val_loss: 1.3598\n",
      "Epoch 40/50\n",
      "\u001b[1m25/25\u001b[0m \u001b[32m━━━━━━━━━━━━━━━━━━━━\u001b[0m\u001b[37m\u001b[0m \u001b[1m2s\u001b[0m 60ms/step - accuracy: 0.9997 - loss: 0.0018 - val_accuracy: 0.7963 - val_loss: 1.3732\n",
      "Epoch 41/50\n",
      "\u001b[1m25/25\u001b[0m \u001b[32m━━━━━━━━━━━━━━━━━━━━\u001b[0m\u001b[37m\u001b[0m \u001b[1m1s\u001b[0m 56ms/step - accuracy: 0.9981 - loss: 0.0041 - val_accuracy: 0.7963 - val_loss: 1.4069\n",
      "Epoch 42/50\n",
      "\u001b[1m25/25\u001b[0m \u001b[32m━━━━━━━━━━━━━━━━━━━━\u001b[0m\u001b[37m\u001b[0m \u001b[1m1s\u001b[0m 58ms/step - accuracy: 0.9995 - loss: 0.0016 - val_accuracy: 0.7917 - val_loss: 1.4244\n",
      "Epoch 43/50\n",
      "\u001b[1m25/25\u001b[0m \u001b[32m━━━━━━━━━━━━━━━━━━━━\u001b[0m\u001b[37m\u001b[0m \u001b[1m1s\u001b[0m 56ms/step - accuracy: 0.9990 - loss: 0.0021 - val_accuracy: 0.7917 - val_loss: 1.4341\n",
      "Epoch 44/50\n",
      "\u001b[1m25/25\u001b[0m \u001b[32m━━━━━━━━━━━━━━━━━━━━\u001b[0m\u001b[37m\u001b[0m \u001b[1m1s\u001b[0m 57ms/step - accuracy: 0.9998 - loss: 7.0268e-04 - val_accuracy: 0.7824 - val_loss: 1.4439\n",
      "Epoch 45/50\n",
      "\u001b[1m25/25\u001b[0m \u001b[32m━━━━━━━━━━━━━━━━━━━━\u001b[0m\u001b[37m\u001b[0m \u001b[1m2s\u001b[0m 60ms/step - accuracy: 0.9998 - loss: 7.8413e-04 - val_accuracy: 0.7824 - val_loss: 1.4498\n",
      "Epoch 46/50\n",
      "\u001b[1m25/25\u001b[0m \u001b[32m━━━━━━━━━━━━━━━━━━━━\u001b[0m\u001b[37m\u001b[0m \u001b[1m1s\u001b[0m 56ms/step - accuracy: 0.9989 - loss: 0.0022 - val_accuracy: 0.7870 - val_loss: 1.4484\n",
      "Epoch 47/50\n",
      "\u001b[1m25/25\u001b[0m \u001b[32m━━━━━━━━━━━━━━━━━━━━\u001b[0m\u001b[37m\u001b[0m \u001b[1m2s\u001b[0m 60ms/step - accuracy: 0.9983 - loss: 0.0032 - val_accuracy: 0.7870 - val_loss: 1.4547\n",
      "Epoch 48/50\n",
      "\u001b[1m25/25\u001b[0m \u001b[32m━━━━━━━━━━━━━━━━━━━━\u001b[0m\u001b[37m\u001b[0m \u001b[1m2s\u001b[0m 65ms/step - accuracy: 0.9993 - loss: 0.0013 - val_accuracy: 0.7870 - val_loss: 1.4886\n",
      "Epoch 49/50\n",
      "\u001b[1m25/25\u001b[0m \u001b[32m━━━━━━━━━━━━━━━━━━━━\u001b[0m\u001b[37m\u001b[0m \u001b[1m2s\u001b[0m 61ms/step - accuracy: 0.9988 - loss: 0.0053 - val_accuracy: 0.7130 - val_loss: 1.3699\n",
      "Epoch 50/50\n",
      "\u001b[1m25/25\u001b[0m \u001b[32m━━━━━━━━━━━━━━━━━━━━\u001b[0m\u001b[37m\u001b[0m \u001b[1m2s\u001b[0m 62ms/step - accuracy: 0.9853 - loss: 0.0619 - val_accuracy: 0.7315 - val_loss: 1.5783\n"
     ]
    },
    {
     "data": {
      "text/plain": [
       "<keras.src.callbacks.history.History at 0x1c9a688ed10>"
      ]
     },
     "execution_count": 189,
     "metadata": {},
     "output_type": "execute_result"
    }
   ],
   "source": [
    "#train the model on the rgb\n",
    "model = Sequential([\n",
    "    Conv2D(32, (3,3), activation='relu'),\n",
    "    MaxPooling2D(2,2),\n",
    "    Conv2D(64, (3,3), activation='relu'),\n",
    "    MaxPooling2D(2,2),\n",
    "    Flatten(),\n",
    "\n",
    "    Dense(units=25, activation='relu'),\n",
    "    Dense(units=6, activation='softmax')\n",
    "])\n",
    "\n",
    "model.compile(optimizer = 'adam', loss = SparseCategoricalCrossentropy(), metrics = ['accuracy'])\n",
    "# early_stop = EarlyStopping(monitor='val_loss', patience=3, restore_best_weights=True)\n",
    "model.fit(x_train, y_train, epochs=50,validation_split=0.2, batch_size=35)"
   ]
  },
  {
   "cell_type": "code",
   "execution_count": 190,
   "id": "2a896845",
   "metadata": {},
   "outputs": [
    {
     "name": "stdout",
     "output_type": "stream",
     "text": [
      "\u001b[1m34/34\u001b[0m \u001b[32m━━━━━━━━━━━━━━━━━━━━\u001b[0m\u001b[37m\u001b[0m \u001b[1m1s\u001b[0m 15ms/step - accuracy: 0.9900 - loss: 0.0574\n",
      "Loss 0.32830363512039185\n",
      "Accuracy 0.9425926208496094\n"
     ]
    }
   ],
   "source": [
    "#evaluate the rgb_images_trained_model on a training data\n",
    "loss, accuracy = model.evaluate(x_train, y_train)\n",
    "print(f\"Loss\", loss)\n",
    "print(f\"Accuracy\", accuracy)"
   ]
  },
  {
   "cell_type": "code",
   "execution_count": 191,
   "id": "69d8d895",
   "metadata": {},
   "outputs": [
    {
     "name": "stdout",
     "output_type": "stream",
     "text": [
      "\u001b[1m4/4\u001b[0m \u001b[32m━━━━━━━━━━━━━━━━━━━━\u001b[0m\u001b[37m\u001b[0m \u001b[1m0s\u001b[0m 32ms/step - accuracy: 0.7738 - loss: 1.4126\n",
      "Loss 1.3463404178619385\n",
      "Accuracy 0.7833333611488342\n"
     ]
    }
   ],
   "source": [
    "#evaluate the rgb_images_trained_model on a testing data\n",
    "loss, accuracy = model.evaluate(x_test, y_test)\n",
    "print(f\"Loss\", loss)\n",
    "print(f\"Accuracy\", accuracy)"
   ]
  },
  {
   "cell_type": "code",
   "execution_count": 202,
   "id": "74e9c8ce",
   "metadata": {},
   "outputs": [
    {
     "name": "stdout",
     "output_type": "stream",
     "text": [
      "\u001b[1m1/1\u001b[0m \u001b[32m━━━━━━━━━━━━━━━━━━━━\u001b[0m\u001b[37m\u001b[0m \u001b[1m0s\u001b[0m 108ms/step\n",
      "2\n",
      "[[0.15522233 0.17337298 0.18157774 0.16389963 0.16957322 0.15635405]]\n"
     ]
    }
   ],
   "source": [
    "#test the rgb_images_trained_model\n",
    "path = rf\"C:\\Users\\Wahaj Sajid\\Desktop\\4.jpeg\"\n",
    "img = cv2.imread(path,cv2.IMREAD_COLOR_RGB)\n",
    "img = cv2.resize(img,(64,64))\n",
    "img = img/255.0\n",
    "img = img.reshape(64, 64, 3)\n",
    "\n",
    "img = np.expand_dims(img, axis=0)\n",
    "\n",
    "prediction = model.predict(img)\n",
    "\n",
    "predict = np.argmax(prediction)\n",
    "print(predict)\n",
    "print(prediction)"
   ]
  }
 ],
 "metadata": {
  "kernelspec": {
   "display_name": "base",
   "language": "python",
   "name": "python3"
  },
  "language_info": {
   "codemirror_mode": {
    "name": "ipython",
    "version": 3
   },
   "file_extension": ".py",
   "mimetype": "text/x-python",
   "name": "python",
   "nbconvert_exporter": "python",
   "pygments_lexer": "ipython3",
   "version": "3.11.11"
  }
 },
 "nbformat": 4,
 "nbformat_minor": 5
}
