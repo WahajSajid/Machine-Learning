{
 "cells": [
  {
   "cell_type": "code",
   "execution_count": 2,
   "id": "60e2d18d",
   "metadata": {},
   "outputs": [],
   "source": [
    "import h5py\n",
    "from tensorflow.keras.models import Sequential\n",
    "from tensorflow.keras.layers import Dense, Conv2D, Flatten, MaxPooling2D, Dropout\n",
    "from tensorflow.keras.losses import SparseCategoricalCrossentropy\n",
    "from tensorflow.keras.callbacks import EarlyStopping\n",
    "from tensorflow.keras.regularizers import L2\n",
    "from tensorflow.keras.optimizers import Adam\n",
    "import cv2\n",
    "import numpy as np\n",
    "import matplotlib.pyplot as plt\n",
    "from tensorflow.keras.preprocessing.image import ImageDataGenerator\n",
    "from sklearn.utils import shuffle\n",
    "import os\n",
    "from tensorflow.keras.models import load_model\n"
   ]
  },
  {
   "cell_type": "code",
   "execution_count": 193,
   "id": "32e11edf",
   "metadata": {},
   "outputs": [],
   "source": [
    "#load and save the images in folder\n",
    "\n",
    "h5_path = rf\"C:\\Users\\Wahaj Sajid\\Desktop\\Datasets\\Finger Signs Data sets\\Signs_Data_Testing.h5\"\n",
    "\n",
    "save_folder = rf\"C:\\Users\\Wahaj Sajid\\Desktop\\Datasets\\Finger Signs Data sets\\data_testing_extracted\"\n",
    "os.makedirs(save_folder, exist_ok=True)\n",
    "\n",
    "with h5py.File(h5_path) as h5_file:\n",
    "    images = h5_file['test_set_x'][:]\n",
    "\n",
    "    #save each picture\n",
    "    for i, img in enumerate(images):\n",
    "        \n",
    "        # If values are floats in range [0, 1], convert to uint8\n",
    "        if img.max() <= 1.0:\n",
    "            img = (img * 255).astype(np.uint8)\n",
    "\n",
    "        #convert RGB to BGR\n",
    "        img_bgr = cv2.cvtColor(img, cv2.COLOR_RGB2BGR)\n",
    "        save_path = os.path.join(save_folder, f'image{i}.jpg')\n",
    "        cv2.imwrite(save_path,img_bgr)\n"
   ]
  },
  {
   "cell_type": "code",
   "execution_count": 142,
   "id": "afc494a9",
   "metadata": {},
   "outputs": [
    {
     "name": "stdout",
     "output_type": "stream",
     "text": [
      "<KeysViewHDF5 ['list_classes', 'train_set_x', 'train_set_y']>\n",
      "(1080, 64, 64, 3)\n",
      "(1080,)\n"
     ]
    }
   ],
   "source": [
    "#load the training data set\n",
    "with h5py.File(rf'C:\\Users\\Wahaj Sajid\\Desktop\\Datasets\\Finger Signs Data sets\\Signs_Data_Training.h5', 'r') as f:\n",
    "    print(f.keys())\n",
    "    x_train = f['train_set_x'][:]\n",
    "    y_train = f['train_set_y'][:]\n",
    "\n",
    "    print(x_train.shape)\n",
    "    print(y_train.shape)"
   ]
  },
  {
   "cell_type": "code",
   "execution_count": 143,
   "id": "edda61aa",
   "metadata": {},
   "outputs": [
    {
     "name": "stdout",
     "output_type": "stream",
     "text": [
      "<KeysViewHDF5 ['list_classes', 'test_set_x', 'test_set_y']>\n",
      "(120, 64, 64, 3)\n",
      "(120,)\n"
     ]
    }
   ],
   "source": [
    "#load the testing dataset\n",
    "with h5py.File(rf'C:\\Users\\Wahaj Sajid\\Desktop\\Datasets\\Finger Signs Data sets\\Signs_Data_Testing.h5', 'r' ) as f:\n",
    "    print(f.keys())\n",
    "\n",
    "    x_test = f['test_set_x'][:]\n",
    "    y_test = f['test_set_y'][:]\n",
    "\n",
    "print(x_test.shape)\n",
    "print(y_test.shape)"
   ]
  },
  {
   "cell_type": "markdown",
   "id": "fa5e32d6",
   "metadata": {},
   "source": [
    "# Below is the implementation of model trained on Gray Scale images (128, 128, 1)"
   ]
  },
  {
   "cell_type": "code",
   "execution_count": 144,
   "id": "fa19c3f6",
   "metadata": {},
   "outputs": [],
   "source": [
    "#changing the shape of train images and resizing them\n",
    "train_gray_images = []\n",
    "for img in x_train:\n",
    "    img = cv2.cvtColor(img, cv2.COLOR_RGB2GRAY)\n",
    "    img = cv2.resize(img, (128, 128))\n",
    "    img = img/255.0\n",
    "    train_gray_images.append(img.reshape(128, 128, 1))\n",
    "\n",
    "train_gray_images = np.array(train_gray_images)"
   ]
  },
  {
   "cell_type": "code",
   "execution_count": 145,
   "id": "cb2f9b95",
   "metadata": {},
   "outputs": [],
   "source": [
    "#changing the shape of test images and resizing them\n",
    "test_gray_images = []\n",
    "for img in x_test:\n",
    "    img = cv2.cvtColor(img, cv2.COLOR_RGB2GRAY)\n",
    "    img = cv2.resize(img, (128, 128))\n",
    "    img = img/255.0\n",
    "    test_gray_images.append(img.reshape(128, 128, 1))\n",
    "test_gray_images = np.array(test_gray_images)"
   ]
  },
  {
   "cell_type": "code",
   "execution_count": 146,
   "id": "0833621e",
   "metadata": {},
   "outputs": [],
   "source": [
    "image_data_generator = ImageDataGenerator(\n",
    "    rotation_range = 15,\n",
    "    width_shift_range = 0.1,\n",
    "    height_shift_range = 0.1,\n",
    "    zoom_range = 0.1,\n",
    "    horizontal_flip = True,\n",
    "    validation_split = 0.2\n",
    ")"
   ]
  },
  {
   "cell_type": "code",
   "execution_count": null,
   "id": "9e0cd732",
   "metadata": {},
   "outputs": [],
   "source": [
    "#shuffle the data\n",
    "train_gray_images, y_train = shuffle(train_gray_images, y_train, random_state=42)"
   ]
  },
  {
   "cell_type": "code",
   "execution_count": 147,
   "id": "651ae914",
   "metadata": {},
   "outputs": [
    {
     "name": "stdout",
     "output_type": "stream",
     "text": [
      "Epoch 1/55\n",
      "\u001b[1m27/27\u001b[0m \u001b[32m━━━━━━━━━━━━━━━━━━━━\u001b[0m\u001b[37m\u001b[0m \u001b[1m8s\u001b[0m 237ms/step - accuracy: 0.1783 - loss: 1.9928 - val_accuracy: 0.1574 - val_loss: 1.7917\n",
      "Epoch 2/55\n",
      "\u001b[1m27/27\u001b[0m \u001b[32m━━━━━━━━━━━━━━━━━━━━\u001b[0m\u001b[37m\u001b[0m \u001b[1m6s\u001b[0m 214ms/step - accuracy: 0.1797 - loss: 1.7905 - val_accuracy: 0.1713 - val_loss: 1.7827\n",
      "Epoch 3/55\n",
      "\u001b[1m27/27\u001b[0m \u001b[32m━━━━━━━━━━━━━━━━━━━━\u001b[0m\u001b[37m\u001b[0m \u001b[1m6s\u001b[0m 214ms/step - accuracy: 0.2470 - loss: 1.7827 - val_accuracy: 0.2963 - val_loss: 1.7743\n",
      "Epoch 4/55\n",
      "\u001b[1m27/27\u001b[0m \u001b[32m━━━━━━━━━━━━━━━━━━━━\u001b[0m\u001b[37m\u001b[0m \u001b[1m6s\u001b[0m 213ms/step - accuracy: 0.2998 - loss: 1.7504 - val_accuracy: 0.3194 - val_loss: 1.6651\n",
      "Epoch 5/55\n",
      "\u001b[1m27/27\u001b[0m \u001b[32m━━━━━━━━━━━━━━━━━━━━\u001b[0m\u001b[37m\u001b[0m \u001b[1m6s\u001b[0m 214ms/step - accuracy: 0.3501 - loss: 1.6165 - val_accuracy: 0.3102 - val_loss: 1.5686\n",
      "Epoch 6/55\n",
      "\u001b[1m27/27\u001b[0m \u001b[32m━━━━━━━━━━━━━━━━━━━━\u001b[0m\u001b[37m\u001b[0m \u001b[1m6s\u001b[0m 216ms/step - accuracy: 0.4143 - loss: 1.4913 - val_accuracy: 0.4583 - val_loss: 1.4526\n",
      "Epoch 7/55\n",
      "\u001b[1m27/27\u001b[0m \u001b[32m━━━━━━━━━━━━━━━━━━━━\u001b[0m\u001b[37m\u001b[0m \u001b[1m6s\u001b[0m 220ms/step - accuracy: 0.4841 - loss: 1.3981 - val_accuracy: 0.5139 - val_loss: 1.2566\n",
      "Epoch 8/55\n",
      "\u001b[1m27/27\u001b[0m \u001b[32m━━━━━━━━━━━━━━━━━━━━\u001b[0m\u001b[37m\u001b[0m \u001b[1m6s\u001b[0m 213ms/step - accuracy: 0.5494 - loss: 1.2561 - val_accuracy: 0.5278 - val_loss: 1.2472\n",
      "Epoch 9/55\n",
      "\u001b[1m27/27\u001b[0m \u001b[32m━━━━━━━━━━━━━━━━━━━━\u001b[0m\u001b[37m\u001b[0m \u001b[1m6s\u001b[0m 223ms/step - accuracy: 0.5426 - loss: 1.1820 - val_accuracy: 0.5509 - val_loss: 1.1989\n",
      "Epoch 10/55\n",
      "\u001b[1m27/27\u001b[0m \u001b[32m━━━━━━━━━━━━━━━━━━━━\u001b[0m\u001b[37m\u001b[0m \u001b[1m6s\u001b[0m 221ms/step - accuracy: 0.5961 - loss: 1.0481 - val_accuracy: 0.6435 - val_loss: 1.0127\n",
      "Epoch 11/55\n",
      "\u001b[1m27/27\u001b[0m \u001b[32m━━━━━━━━━━━━━━━━━━━━\u001b[0m\u001b[37m\u001b[0m \u001b[1m6s\u001b[0m 221ms/step - accuracy: 0.6079 - loss: 1.0173 - val_accuracy: 0.5787 - val_loss: 1.0249\n",
      "Epoch 12/55\n",
      "\u001b[1m27/27\u001b[0m \u001b[32m━━━━━━━━━━━━━━━━━━━━\u001b[0m\u001b[37m\u001b[0m \u001b[1m6s\u001b[0m 211ms/step - accuracy: 0.5972 - loss: 1.0454 - val_accuracy: 0.5880 - val_loss: 0.9917\n",
      "Epoch 13/55\n",
      "\u001b[1m27/27\u001b[0m \u001b[32m━━━━━━━━━━━━━━━━━━━━\u001b[0m\u001b[37m\u001b[0m \u001b[1m6s\u001b[0m 215ms/step - accuracy: 0.6143 - loss: 0.9726 - val_accuracy: 0.5833 - val_loss: 1.0611\n",
      "Epoch 14/55\n",
      "\u001b[1m27/27\u001b[0m \u001b[32m━━━━━━━━━━━━━━━━━━━━\u001b[0m\u001b[37m\u001b[0m \u001b[1m6s\u001b[0m 212ms/step - accuracy: 0.6812 - loss: 0.8975 - val_accuracy: 0.6481 - val_loss: 0.9616\n",
      "Epoch 15/55\n",
      "\u001b[1m27/27\u001b[0m \u001b[32m━━━━━━━━━━━━━━━━━━━━\u001b[0m\u001b[37m\u001b[0m \u001b[1m6s\u001b[0m 212ms/step - accuracy: 0.6986 - loss: 0.8692 - val_accuracy: 0.6019 - val_loss: 0.9766\n",
      "Epoch 16/55\n",
      "\u001b[1m27/27\u001b[0m \u001b[32m━━━━━━━━━━━━━━━━━━━━\u001b[0m\u001b[37m\u001b[0m \u001b[1m6s\u001b[0m 209ms/step - accuracy: 0.7021 - loss: 0.8522 - val_accuracy: 0.6481 - val_loss: 0.8912\n",
      "Epoch 17/55\n",
      "\u001b[1m27/27\u001b[0m \u001b[32m━━━━━━━━━━━━━━━━━━━━\u001b[0m\u001b[37m\u001b[0m \u001b[1m6s\u001b[0m 217ms/step - accuracy: 0.6832 - loss: 0.8634 - val_accuracy: 0.6343 - val_loss: 0.9257\n",
      "Epoch 18/55\n",
      "\u001b[1m27/27\u001b[0m \u001b[32m━━━━━━━━━━━━━━━━━━━━\u001b[0m\u001b[37m\u001b[0m \u001b[1m6s\u001b[0m 213ms/step - accuracy: 0.6931 - loss: 0.8360 - val_accuracy: 0.6759 - val_loss: 0.8731\n",
      "Epoch 19/55\n",
      "\u001b[1m27/27\u001b[0m \u001b[32m━━━━━━━━━━━━━━━━━━━━\u001b[0m\u001b[37m\u001b[0m \u001b[1m6s\u001b[0m 213ms/step - accuracy: 0.7187 - loss: 0.7776 - val_accuracy: 0.6250 - val_loss: 0.8817\n",
      "Epoch 20/55\n",
      "\u001b[1m27/27\u001b[0m \u001b[32m━━━━━━━━━━━━━━━━━━━━\u001b[0m\u001b[37m\u001b[0m \u001b[1m6s\u001b[0m 216ms/step - accuracy: 0.7371 - loss: 0.7232 - val_accuracy: 0.7130 - val_loss: 0.7747\n",
      "Epoch 21/55\n",
      "\u001b[1m27/27\u001b[0m \u001b[32m━━━━━━━━━━━━━━━━━━━━\u001b[0m\u001b[37m\u001b[0m \u001b[1m6s\u001b[0m 212ms/step - accuracy: 0.6925 - loss: 0.8032 - val_accuracy: 0.6991 - val_loss: 0.8676\n",
      "Epoch 22/55\n",
      "\u001b[1m27/27\u001b[0m \u001b[32m━━━━━━━━━━━━━━━━━━━━\u001b[0m\u001b[37m\u001b[0m \u001b[1m6s\u001b[0m 212ms/step - accuracy: 0.7296 - loss: 0.7470 - val_accuracy: 0.6806 - val_loss: 0.8008\n",
      "Epoch 23/55\n",
      "\u001b[1m27/27\u001b[0m \u001b[32m━━━━━━━━━━━━━━━━━━━━\u001b[0m\u001b[37m\u001b[0m \u001b[1m6s\u001b[0m 214ms/step - accuracy: 0.7020 - loss: 0.7773 - val_accuracy: 0.7083 - val_loss: 0.7468\n",
      "Epoch 24/55\n",
      "\u001b[1m27/27\u001b[0m \u001b[32m━━━━━━━━━━━━━━━━━━━━\u001b[0m\u001b[37m\u001b[0m \u001b[1m6s\u001b[0m 212ms/step - accuracy: 0.7708 - loss: 0.6828 - val_accuracy: 0.7269 - val_loss: 0.7657\n",
      "Epoch 25/55\n",
      "\u001b[1m27/27\u001b[0m \u001b[32m━━━━━━━━━━━━━━━━━━━━\u001b[0m\u001b[37m\u001b[0m \u001b[1m6s\u001b[0m 210ms/step - accuracy: 0.7312 - loss: 0.7619 - val_accuracy: 0.7454 - val_loss: 0.7447\n",
      "Epoch 26/55\n",
      "\u001b[1m27/27\u001b[0m \u001b[32m━━━━━━━━━━━━━━━━━━━━\u001b[0m\u001b[37m\u001b[0m \u001b[1m6s\u001b[0m 213ms/step - accuracy: 0.7568 - loss: 0.6882 - val_accuracy: 0.7454 - val_loss: 0.6680\n",
      "Epoch 27/55\n",
      "\u001b[1m27/27\u001b[0m \u001b[32m━━━━━━━━━━━━━━━━━━━━\u001b[0m\u001b[37m\u001b[0m \u001b[1m6s\u001b[0m 215ms/step - accuracy: 0.7814 - loss: 0.6462 - val_accuracy: 0.7639 - val_loss: 0.6652\n",
      "Epoch 28/55\n",
      "\u001b[1m27/27\u001b[0m \u001b[32m━━━━━━━━━━━━━━━━━━━━\u001b[0m\u001b[37m\u001b[0m \u001b[1m6s\u001b[0m 212ms/step - accuracy: 0.7510 - loss: 0.6588 - val_accuracy: 0.7407 - val_loss: 0.7167\n",
      "Epoch 29/55\n",
      "\u001b[1m27/27\u001b[0m \u001b[32m━━━━━━━━━━━━━━━━━━━━\u001b[0m\u001b[37m\u001b[0m \u001b[1m6s\u001b[0m 218ms/step - accuracy: 0.7750 - loss: 0.6039 - val_accuracy: 0.7176 - val_loss: 0.7369\n",
      "Epoch 30/55\n",
      "\u001b[1m27/27\u001b[0m \u001b[32m━━━━━━━━━━━━━━━━━━━━\u001b[0m\u001b[37m\u001b[0m \u001b[1m6s\u001b[0m 212ms/step - accuracy: 0.8087 - loss: 0.6003 - val_accuracy: 0.7685 - val_loss: 0.5867\n",
      "Epoch 31/55\n",
      "\u001b[1m27/27\u001b[0m \u001b[32m━━━━━━━━━━━━━━━━━━━━\u001b[0m\u001b[37m\u001b[0m \u001b[1m6s\u001b[0m 210ms/step - accuracy: 0.7972 - loss: 0.5812 - val_accuracy: 0.7315 - val_loss: 0.7965\n",
      "Epoch 32/55\n",
      "\u001b[1m27/27\u001b[0m \u001b[32m━━━━━━━━━━━━━━━━━━━━\u001b[0m\u001b[37m\u001b[0m \u001b[1m6s\u001b[0m 215ms/step - accuracy: 0.8141 - loss: 0.5731 - val_accuracy: 0.7824 - val_loss: 0.6702\n",
      "Epoch 33/55\n",
      "\u001b[1m27/27\u001b[0m \u001b[32m━━━━━━━━━━━━━━━━━━━━\u001b[0m\u001b[37m\u001b[0m \u001b[1m6s\u001b[0m 214ms/step - accuracy: 0.8184 - loss: 0.5948 - val_accuracy: 0.8009 - val_loss: 0.6589\n"
     ]
    },
    {
     "data": {
      "text/plain": [
       "<keras.src.callbacks.history.History at 0x27a7fa1b0d0>"
      ]
     },
     "execution_count": 147,
     "metadata": {},
     "output_type": "execute_result"
    }
   ],
   "source": [
    "#train the images on the gray scale images\n",
    "model_1 = Sequential([\n",
    "    Conv2D(32, (3,3), activation='relu', input_shape = (128, 128, 1)),\n",
    "    MaxPooling2D(2,2),\n",
    "    Conv2D(64, (3,3), activation='relu'),\n",
    "    MaxPooling2D(2,2),\n",
    "    Flatten(),\n",
    "    Dense(units=25, activation='relu'),\n",
    "    Dense(units=6, activation='softmax')\n",
    "])\n",
    "\n",
    "model_1.compile(optimizer = 'adam', loss = SparseCategoricalCrossentropy(), metrics = ['accuracy'])\n",
    "early_stop = EarlyStopping(monitor='val_loss', patience=3, restore_best_weights=True)\n",
    "train_gen = image_data_generator.flow(train_gray_images, y_train, batch_size=32, subset = 'training')\n",
    "validation_gen = image_data_generator.flow(train_gray_images, y_train, batch_size=32, subset = 'validation')\n",
    "model_1.fit(train_gen, callbacks=[early_stop], epochs=55, validation_data=validation_gen)"
   ]
  },
  {
   "cell_type": "code",
   "execution_count": 148,
   "id": "66df1760",
   "metadata": {},
   "outputs": [
    {
     "name": "stdout",
     "output_type": "stream",
     "text": [
      "\u001b[1m34/34\u001b[0m \u001b[32m━━━━━━━━━━━━━━━━━━━━\u001b[0m\u001b[37m\u001b[0m \u001b[1m3s\u001b[0m 86ms/step - accuracy: 0.8626 - loss: 0.3925\n",
      "Loss 0.3704769015312195\n",
      "Accuracy 0.8805555701255798\n"
     ]
    }
   ],
   "source": [
    "#evaluate the gray_scale_images_trained_model on a training data \n",
    "loss, accuracy = model_1.evaluate(train_gray_images, y_train)\n",
    "print(f\"Loss\", loss)\n",
    "print(f\"Accuracy\", accuracy)"
   ]
  },
  {
   "cell_type": "code",
   "execution_count": 149,
   "id": "b55c5665",
   "metadata": {},
   "outputs": [
    {
     "name": "stdout",
     "output_type": "stream",
     "text": [
      "\u001b[1m4/4\u001b[0m \u001b[32m━━━━━━━━━━━━━━━━━━━━\u001b[0m\u001b[37m\u001b[0m \u001b[1m0s\u001b[0m 108ms/step - accuracy: 0.8356 - loss: 0.4638\n",
      "Loss 0.4821421802043915\n",
      "Accuracy 0.8416666388511658\n"
     ]
    }
   ],
   "source": [
    "#evaluate the rgb_images_trained_model on a testing data\n",
    "loss, accuracy = model_1.evaluate(test_gray_images, y_test)\n",
    "print(f\"Loss\", loss)\n",
    "print(f\"Accuracy\", accuracy)"
   ]
  },
  {
   "cell_type": "code",
   "execution_count": null,
   "id": "b556f490",
   "metadata": {},
   "outputs": [
    {
     "name": "stderr",
     "output_type": "stream",
     "text": [
      "WARNING:absl:Compiled the loaded model, but the compiled metrics have yet to be built. `model.compile_metrics` will be empty until you train or evaluate the model.\n"
     ]
    },
    {
     "data": {
      "image/png": "[encoded data removed]",
      "text/plain": [
       "<Figure size 640x480 with 1 Axes>"
      ]
     },
     "metadata": {},
     "output_type": "display_data"
    },
    {
     "name": "stdout",
     "output_type": "stream",
     "text": [
      "WARNING:tensorflow:5 out of the last 5 calls to <function TensorFlowTrainer.make_predict_function.<locals>.one_step_on_data_distributed at 0x0000021C20669300> triggered tf.function retracing. Tracing is expensive and the excessive number of tracings could be due to (1) creating @tf.function repeatedly in a loop, (2) passing tensors with different shapes, (3) passing Python objects instead of tensors. For (1), please define your @tf.function outside of the loop. For (2), @tf.function has reduce_retracing=True option that can avoid unnecessary retracing. For (3), please refer to https://www.tensorflow.org/guide/function#controlling_retracing and https://www.tensorflow.org/api_docs/python/tf/function for  more details.\n"
     ]
    },
    {
     "name": "stderr",
     "output_type": "stream",
     "text": [
      "WARNING:tensorflow:5 out of the last 5 calls to <function TensorFlowTrainer.make_predict_function.<locals>.one_step_on_data_distributed at 0x0000021C20669300> triggered tf.function retracing. Tracing is expensive and the excessive number of tracings could be due to (1) creating @tf.function repeatedly in a loop, (2) passing tensors with different shapes, (3) passing Python objects instead of tensors. For (1), please define your @tf.function outside of the loop. For (2), @tf.function has reduce_retracing=True option that can avoid unnecessary retracing. For (3), please refer to https://www.tensorflow.org/guide/function#controlling_retracing and https://www.tensorflow.org/api_docs/python/tf/function for  more details.\n"
     ]
    },
    {
     "name": "stdout",
     "output_type": "stream",
     "text": [
      "\u001b[1m1/1\u001b[0m \u001b[32m━━━━━━━━━━━━━━━━━━━━\u001b[0m\u001b[37m\u001b[0m \u001b[1m0s\u001b[0m 94ms/step\n",
      "3\n",
      "[[1.2289952e-09 6.2035946e-07 3.8955302e-04 8.2460243e-01 6.9491059e-02\n",
      "  1.0551640e-01]]\n"
     ]
    }
   ],
   "source": [
    "# load and test the \n",
    "path = rf\"C:\\Users\\Wahaj Sajid\\Desktop\\three.jpeg\"\n",
    "img = cv2.imread(path,cv2.IMREAD_GRAYSCALE)\n",
    "plt.imshow(img, cmap='gray')\n",
    "plt.show()\n",
    "img = cv2.resize(img,(128,128))\n",
    "img = img/255.0\n",
    "img = img.reshape(128, 128, 1)\n",
    "\n",
    "img = np.expand_dims(img, axis=0)\n",
    "\n",
    "prediction = model_1.predict(img)\n",
    "\n",
    "predict = np.argmax(prediction)\n",
    "print(predict)\n",
    "print(prediction)"
   ]
  },
  {
   "cell_type": "code",
   "execution_count": null,
   "id": "6db4306a",
   "metadata": {},
   "outputs": [],
   "source": [
    "#save the model\n",
    "model_1.save(r'C:\\Users\\Wahaj Sajid\\Desktop\\Machine Learning\\Machine-Learning\\ML\\Models\\finger_sign_detector.h5')"
   ]
  },
  {
   "cell_type": "code",
   "execution_count": 3,
   "id": "b1ba71f7",
   "metadata": {},
   "outputs": [
    {
     "name": "stderr",
     "output_type": "stream",
     "text": [
      "WARNING:absl:Compiled the loaded model, but the compiled metrics have yet to be built. `model.compile_metrics` will be empty until you train or evaluate the model.\n"
     ]
    },
    {
     "data": {
      "image/png": "[encoded data removed]",
      "text/plain": [
       "<Figure size 640x480 with 1 Axes>"
      ]
     },
     "metadata": {},
     "output_type": "display_data"
    },
    {
     "name": "stdout",
     "output_type": "stream",
     "text": [
      "\u001b[1m1/1\u001b[0m \u001b[32m━━━━━━━━━━━━━━━━━━━━\u001b[0m\u001b[37m\u001b[0m \u001b[1m0s\u001b[0m 349ms/step\n",
      "3\n",
      "[[1.2289952e-09 6.2035946e-07 3.8955268e-04 8.2460243e-01 6.9491118e-02\n",
      "  1.0551629e-01]]\n"
     ]
    }
   ],
   "source": [
    "#load the saved model to make the prediction or use in any application\n",
    "finget_sign_predictor = load_model(rf\"C:\\Users\\Wahaj Sajid\\Desktop\\Machine Learning\\Machine-Learning\\ML\\Models\\finger_sign_detector.h5\")\n",
    "path = rf\"C:\\Users\\Wahaj Sajid\\Desktop\\three.jpeg\"\n",
    "img = cv2.imread(path,cv2.IMREAD_GRAYSCALE)\n",
    "plt.imshow(img, cmap='gray')\n",
    "plt.show()\n",
    "img = cv2.resize(img,(128,128))\n",
    "img = img/255.0\n",
    "img = img.reshape(128, 128, 1)\n",
    "\n",
    "img = np.expand_dims(img, axis=0)\n",
    "\n",
    "prediction = finget_sign_predictor.predict(img)\n",
    "\n",
    "predict = np.argmax(prediction)\n",
    "print(predict)\n",
    "print(prediction)"
   ]
  }
 ],
 "metadata": {
  "kernelspec": {
   "display_name": "base",
   "language": "python",
   "name": "python3"
  },
  "language_info": {
   "codemirror_mode": {
    "name": "ipython",
    "version": 3
   },
   "file_extension": ".py",
   "mimetype": "text/x-python",
   "name": "python",
   "nbconvert_exporter": "python",
   "pygments_lexer": "ipython3",
   "version": "3.11.11"
  }
 },
 "nbformat": 4,
 "nbformat_minor": 5
}
