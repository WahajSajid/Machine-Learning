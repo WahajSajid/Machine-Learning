{
 "cells": [
  {
   "cell_type": "markdown",
   "id": "d5bb19f3",
   "metadata": {},
   "source": [
    "# Process to implement Image restoration"
   ]
  },
  {
   "cell_type": "code",
   "execution_count": null,
   "id": "f7800f4e",
   "metadata": {},
   "outputs": [],
   "source": [
    "#import libraries\n",
    "import cv2\n",
    "import matplotlib.pylot as plt"
   ]
  },
  {
   "cell_type": "code",
   "execution_count": null,
   "id": "c840184f",
   "metadata": {},
   "outputs": [],
   "source": [
    "imagePath = \"\""
   ]
  }
 ],
 "metadata": {
  "kernelspec": {
   "display_name": "base",
   "language": "python",
   "name": "python3"
  },
  "language_info": {
   "name": "python",
   "version": "3.11.11"
  }
 },
 "nbformat": 4,
 "nbformat_minor": 5
}
