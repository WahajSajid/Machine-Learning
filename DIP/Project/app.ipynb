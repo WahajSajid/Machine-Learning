{
 "cells": [
  {
   "cell_type": "code",
   "execution_count": 30,
   "id": "d3f0dc1c",
   "metadata": {},
   "outputs": [],
   "source": [
    "\n",
    "#Import necessary libraries\n",
    "from flask import Flask, request, render_template\n",
    "from tensorflow.keras.models import load_model\n",
    "import cv2\n",
    "import numpy as np\n",
    "import os"
   ]
  },
  {
   "cell_type": "code",
   "execution_count": 31,
   "id": "4d6fab40",
   "metadata": {},
   "outputs": [
    {
     "name": "stderr",
     "output_type": "stream",
     "text": [
      "WARNING:absl:Compiled the loaded model, but the compiled metrics have yet to be built. `model.compile_metrics` will be empty until you train or evaluate the model.\n"
     ]
    },
    {
     "name": "stdout",
     "output_type": "stream",
     "text": [
      " * Serving Flask app '__main__'\n",
      " * Debug mode: on\n"
     ]
    },
    {
     "name": "stderr",
     "output_type": "stream",
     "text": [
      "INFO:werkzeug:\u001b[31m\u001b[1mWARNING: This is a development server. Do not use it in a production deployment. Use a production WSGI server instead.\u001b[0m\n",
      " * Running on http://127.0.0.1:5000\n",
      "INFO:werkzeug:\u001b[33mPress CTRL+C to quit\u001b[0m\n",
      "INFO:werkzeug: * Restarting with watchdog (windowsapi)\n"
     ]
    },
    {
     "ename": "SystemExit",
     "evalue": "1",
     "output_type": "error",
     "traceback": [
      "An exception has occurred, use %tb to see the full traceback.\n",
      "\u001b[1;31mSystemExit\u001b[0m\u001b[1;31m:\u001b[0m 1\n"
     ]
    }
   ],
   "source": [
    "app = Flask(__name__)\n",
    "\n",
    "# Ensure 'uploads' folder exists\n",
    "UPLOAD_FOLDER = 'uploads'\n",
    "os.makedirs(UPLOAD_FOLDER, exist_ok=True)\n",
    "\n",
    "# Load the trained model\n",
    "model = load_model('tumor_detector.h5')\n",
    "\n",
    "def predict_tumor(image_path):\n",
    "    img = cv2.imread(image_path, 0)  # Load in grayscale\n",
    "    if img is None:\n",
    "        return \"Invalid image\"\n",
    "    img = cv2.resize(img, (128, 128))\n",
    "    img = img / 255.0\n",
    "    img = img.reshape(1, 128, 128, 1)\n",
    "    prediction = model.predict(img)[0][0]\n",
    "    return 'Tumor Detected' if prediction > 0.5 else 'No Tumor'\n",
    "\n",
    "@app.route('/', methods=['GET', 'POST'])\n",
    "def home():\n",
    "    if request.method == 'POST':\n",
    "        if 'image' not in request.files:\n",
    "            return render_template('result.html', result='No file part')\n",
    "        file = request.files['image']\n",
    "        if file.filename == '':\n",
    "            return render_template('result.html', result='No selected file')\n",
    "        # Basic file extension check (optional)\n",
    "        if not file.filename.lower().endswith(('.png', '.jpg', '.jpeg', '.bmp')):\n",
    "            return render_template('result.html', result='Unsupported file format')\n",
    "        filepath = os.path.join(UPLOAD_FOLDER, file.filename)\n",
    "        file.save(filepath)\n",
    "        result = predict_tumor(filepath)\n",
    "        return render_template('result.html', result=result)\n",
    "    return render_template('index.html')\n",
    "\n",
    "if __name__ == '__main__':\n",
    "    # Fixed the syntax error here\n",
    "    app.run(debug=True)"
   ]
  }
 ],
 "metadata": {
  "kernelspec": {
   "display_name": "base",
   "language": "python",
   "name": "python3"
  },
  "language_info": {
   "codemirror_mode": {
    "name": "ipython",
    "version": 3
   },
   "file_extension": ".py",
   "mimetype": "text/x-python",
   "name": "python",
   "nbconvert_exporter": "python",
   "pygments_lexer": "ipython3",
   "version": "3.11.11"
  }
 },
 "nbformat": 4,
 "nbformat_minor": 5
}
