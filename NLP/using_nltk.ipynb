{
 "cells": [
  {
   "cell_type": "code",
   "execution_count": 2,
   "metadata": {},
   "outputs": [
    {
     "name": "stdout",
     "output_type": "stream",
     "text": [
      "showing info https://raw.githubusercontent.com/nltk/nltk_data/gh-pages/index.xml\n"
     ]
    },
    {
     "data": {
      "text/plain": [
       "True"
      ]
     },
     "execution_count": 2,
     "metadata": {},
     "output_type": "execute_result"
    }
   ],
   "source": [
    "# import Libraries \n",
    "import nltk\n",
    "nltk.download()"
   ]
  },
  {
   "cell_type": "code",
   "execution_count": 5,
   "metadata": {},
   "outputs": [
    {
     "name": "stdout",
     "output_type": "stream",
     "text": [
      "['Hello', ',', 'how', 'are', 'you', 'doing', 'today', '?']\n"
     ]
    }
   ],
   "source": [
    "from nltk.tokenize import word_tokenize\n",
    "\n",
    "\n",
    "#tokenize words\n",
    "\n",
    "text = \"Hello, how are you doing today?\"\n",
    "tokens = word_tokenize(text)\n",
    "\n",
    "print(tokens)"
   ]
  },
  {
   "cell_type": "markdown",
   "metadata": {},
   "source": [
    "# StopWords\n",
    "the words that are \"umm\" , \"hmm\", all the words that are meaningless.\n",
    "\n",
    "# Pre-Processing in NLP\n",
    "1) Stop Words Removal (Removal of meaningless words)\n",
    "2) Stemming\n",
    "3) Lematization\n",
    "4) parts of speech tagging\n",
    "5) Chunking\n",
    "6) Chinking\n",
    "\n",
    "\n",
    "# Stemming in Pre-Processing of NLP\n",
    "convert any word in it's base form. like converting \"riding\" into \"ride\"\n",
    "Stemers used for stemming: \n",
    "1) Pout-Stemmer\n",
    "\n",
    "# Lematization in Pre-Processing of NLP\n",
    "find the lema of words. It's like find the original form of word. like converting a form of word into it's 1st form. (riding into ride, bought into buy)\n",
    "\n"
   ]
  }
 ],
 "metadata": {
  "kernelspec": {
   "display_name": "base",
   "language": "python",
   "name": "python3"
  },
  "language_info": {
   "codemirror_mode": {
    "name": "ipython",
    "version": 3
   },
   "file_extension": ".py",
   "mimetype": "text/x-python",
   "name": "python",
   "nbconvert_exporter": "python",
   "pygments_lexer": "ipython3",
   "version": "3.11.11"
  }
 },
 "nbformat": 4,
 "nbformat_minor": 2
}
